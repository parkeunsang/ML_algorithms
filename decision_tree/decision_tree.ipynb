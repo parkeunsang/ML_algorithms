{
 "cells": [
  {
   "cell_type": "markdown",
   "metadata": {},
   "source": [
    "## Decision Tree Algorithm Implements(roughly)"
   ]
  },
  {
   "cell_type": "markdown",
   "metadata": {},
   "source": [
    "### Loss functions"
   ]
  },
  {
   "cell_type": "markdown",
   "metadata": {},
   "source": [
    "#### Entropy\n",
    "$Entropy(A) = -\\sum^{m}_{k=1} p_k log_2(p_k)$ <br>\n",
    "**ex)** Red balls : 10, Blue balls : 6,  $p_1=\\frac{10}{16}, p2=\\frac{6}{16}$<br>\n",
    "if classified (7,1),(3,5), then $Entropy(A) = \\sum^{d}_{i=1}R_i(-\\sum^{m}_{k=1}p_k log_2(p_k)) (when \\ R_i = 1/n)$<br>"
   ]
  },
  {
   "cell_type": "markdown",
   "metadata": {},
   "source": [
    "#### Gini Index\n",
    "$G.I(A) = \\sum^{d}_{i=1}(R_i(1-\\sum^{m}_{k=1}p^2_{ik}))$"
   ]
  },
  {
   "cell_type": "markdown",
   "metadata": {},
   "source": [
    "We will use **Entropy function** as loss function"
   ]
  },
  {
   "cell_type": "markdown",
   "metadata": {},
   "source": [
    "### Model Learning Process\n",
    "> 1. Finding column and row condition subject to minimize entropy(loss function)\n",
    "2. Split data frame by condition\n",
    "3. Repeat recursivly until can't reducing entropy or entropy=0 "
   ]
  },
  {
   "cell_type": "code",
   "execution_count": 4,
   "metadata": {},
   "outputs": [],
   "source": [
    "import pandas as pd\n",
    "import numpy as np"
   ]
  },
  {
   "cell_type": "code",
   "execution_count": 5,
   "metadata": {},
   "outputs": [],
   "source": [
    "import pandas as pd\n",
    "from sklearn.tree import DecisionTreeClassifier\n",
    "from sklearn import metrics"
   ]
  },
  {
   "cell_type": "code",
   "execution_count": 29,
   "metadata": {},
   "outputs": [],
   "source": [
    "#entropy function\n",
    "def entropy(arr):\n",
    "    if(len(arr)==0):\n",
    "        return(0)\n",
    "    \n",
    "    p1 = sum(arr)/len(arr)\n",
    "    p2 = (len(arr)-sum(arr))/len(arr)\n",
    "    if((p1==0)|(p2==0)):\n",
    "        return(0)\n",
    "    \n",
    "    result = -(p1*np.log2(p1) + p2*np.log2(p2))\n",
    "    \n",
    "    return(result)"
   ]
  },
  {
   "cell_type": "code",
   "execution_count": 30,
   "metadata": {},
   "outputs": [],
   "source": [
    "def entropy_multi(arrs):\n",
    "    entropy_value = 0\n",
    "    n = sum([len(x) for x in arrs])\n",
    "    for x in arrs:\n",
    "        entropy_value += len(x)*entropy(x)/n\n",
    "    return(entropy_value)"
   ]
  },
  {
   "cell_type": "code",
   "execution_count": 31,
   "metadata": {},
   "outputs": [],
   "source": [
    "#Node is decision tree object\n",
    "class Node:\n",
    "    def __init__(self, df):\n",
    "        self.df = df\n",
    "        self.col = None\n",
    "        self.row = None\n",
    "        self.entropy = None\n",
    "        self.left = None\n",
    "        self.right = None"
   ]
  },
  {
   "cell_type": "code",
   "execution_count": 32,
   "metadata": {},
   "outputs": [],
   "source": [
    "#Find minimizing entropy conditions(col, row)\n",
    "def splitDf(df):\n",
    "    minimum=1\n",
    "    colnames = df.columns\n",
    "    \n",
    "    colRow = [colnames[0],df[colnames[0]].unique()[0]] #default value\n",
    "    for col in colnames[:-1]:\n",
    "\n",
    "        for row in df[col].unique():\n",
    "            ys = []\n",
    "            ys = ys+[df[df[col]==row]['value'].values,df[df[col]!=row]['value'].values]\n",
    "            if(entropy_multi(ys)<minimum):\n",
    "                minimum = entropy_multi(ys)\n",
    "                colRow = [col,row]\n",
    "                \n",
    "    return(colRow,minimum)"
   ]
  },
  {
   "cell_type": "code",
   "execution_count": 33,
   "metadata": {},
   "outputs": [],
   "source": [
    "#Make tree recursivly\n",
    "def getNodes(node, df,entropyBefore = -1):\n",
    "    if(entropy(df['value'])==0):\n",
    "        node.entropy = 0\n",
    "        return 0\n",
    "    if(entropy(df['value'])==entropyBefore):\n",
    "        return 0\n",
    "    \n",
    "    cr = splitDf(df)[0]\n",
    "    node.entropy = entropy(df['value'])\n",
    "    \n",
    "    dfLeft = df[df[cr[0]]==cr[1]]\n",
    "    dfRight = df[df[cr[0]] != cr[1]]\n",
    "    \n",
    "    node.col = cr[0]\n",
    "    node.row = cr[1]\n",
    "    \n",
    "    node.left = Node(dfLeft)\n",
    "    node.right = Node(dfRight)\n",
    "    \n",
    "    getNodes(node.left, dfLeft,node.entropy)\n",
    "    getNodes(node.right, dfRight, node.entropy)"
   ]
  },
  {
   "cell_type": "code",
   "execution_count": 34,
   "metadata": {},
   "outputs": [],
   "source": [
    "#Check decision tree\n",
    "def treePrint(node,treeList,right):\n",
    "    \n",
    "    \n",
    "    treeList_ = treeList.copy()\n",
    "    \n",
    "    if(right =='start'):\n",
    "        0\n",
    "    elif(right):\n",
    "        treeList_.append(\"right\")\n",
    "    else:\n",
    "        treeList_.append(\"left\")\n",
    "    \n",
    "    \n",
    "    if((node.left ==None)&(node.right ==None)):\n",
    "        print(treeList_)\n",
    "        return 0\n",
    "    treeList_.append((node.col,node.row))\n",
    "\n",
    "    \n",
    "        \n",
    "   \n",
    "    treePrint(node.left, treeList_,0)\n",
    "    treePrint(node.right,treeList_,1)"
   ]
  },
  {
   "cell_type": "code",
   "execution_count": 35,
   "metadata": {},
   "outputs": [],
   "source": [
    "#Example data\n",
    "inputs = [\n",
    "    ({'level': 'Senior', 'lang': 'Java', 'tweets': 'no', 'phd': 'no'}, False),\n",
    "    ({'level': 'Senior', 'lang': 'Java', 'tweets': 'no', 'phd': 'yes'}, False),\n",
    "    ({'level': 'Mid', 'lang': 'Python', 'tweets': 'no', 'phd': 'no'}, True),\n",
    "    ({'level': 'Junior', 'lang': 'Python', 'tweets': 'no', 'phd': 'no'}, True),\n",
    "    ({'level': 'Junior', 'lang': 'R', 'tweets': 'yes', 'phd': 'no'}, True),\n",
    "    ({'level': 'Junior', 'lang': 'R', 'tweets': 'yes', 'phd': 'yes'}, False),\n",
    "    ({'level': 'Mid', 'lang': 'R', 'tweets': 'yes', 'phd': 'yes'}, True),\n",
    "    ({'level': 'Senior', 'lang': 'Python', 'tweets': 'no', 'phd': 'no'}, False),\n",
    "    ({'level': 'Senior', 'lang': 'R', 'tweets': 'yes', 'phd': 'no'}, True),\n",
    "    ({'level': 'Junior', 'lang': 'Python', 'tweets': 'yes', 'phd': 'no'}, True),\n",
    "    ({'level': 'Senior', 'lang': 'Python', 'tweets': 'yes', 'phd': 'yes'}, True),\n",
    "    ({'level': 'Mid', 'lang': 'Python', 'tweets': 'no', 'phd': 'yes'}, True),\n",
    "    ({'level': 'Mid', 'lang': 'Java', 'tweets': 'yes', 'phd': 'no'}, True),\n",
    "    ({'level': 'Junior', 'lang': 'Python', 'tweets': 'no', 'phd': 'yes'}, False)\n",
    "]\n",
    "\n",
    "X = pd.DataFrame([x[0] for x in inputs])\n",
    "\n",
    "Y = pd.DataFrame(x[1] for x in inputs)\n",
    "\n",
    "Y.columns = ['value']\n",
    "\n",
    "df = pd.concat([X,Y],axis=1)\n",
    "\n",
    "arr = Y.value.values"
   ]
  },
  {
   "cell_type": "code",
   "execution_count": 36,
   "metadata": {},
   "outputs": [],
   "source": [
    "root=Node(df)\n",
    "\n",
    "getNodes(root,df)"
   ]
  },
  {
   "cell_type": "code",
   "execution_count": 37,
   "metadata": {},
   "outputs": [
    {
     "name": "stdout",
     "output_type": "stream",
     "text": [
      "[('level', 'Mid'), 'left']\n",
      "[('level', 'Mid'), 'right', ('tweets', 'no'), 'left', ('level', 'Senior'), 'left']\n",
      "[('level', 'Mid'), 'right', ('tweets', 'no'), 'left', ('level', 'Senior'), 'right', ('phd', 'no'), 'left']\n",
      "[('level', 'Mid'), 'right', ('tweets', 'no'), 'left', ('level', 'Senior'), 'right', ('phd', 'no'), 'right']\n",
      "[('level', 'Mid'), 'right', ('tweets', 'no'), 'right', ('phd', 'no'), 'left']\n",
      "[('level', 'Mid'), 'right', ('tweets', 'no'), 'right', ('phd', 'no'), 'right', ('level', 'Junior'), 'left']\n",
      "[('level', 'Mid'), 'right', ('tweets', 'no'), 'right', ('phd', 'no'), 'right', ('level', 'Junior'), 'right']\n"
     ]
    },
    {
     "data": {
      "text/plain": [
       "'\\nleft is true and right is false\\ncheck this\\n'"
      ]
     },
     "execution_count": 37,
     "metadata": {},
     "output_type": "execute_result"
    }
   ],
   "source": [
    "\n",
    "treePrint(root,[],'start')\n",
    "'''\n",
    "left is true and right is false\n",
    "check this\n",
    "'''\n",
    "#root.left.df"
   ]
  },
  {
   "cell_type": "code",
   "execution_count": 38,
   "metadata": {},
   "outputs": [],
   "source": [
    "#Prediction by X\n",
    "def dfPred(node, sr):\n",
    "\n",
    "    if((node.left==None)&(node.right==None)):\n",
    "        if(len(node.df['value']) != 0):\n",
    "            result[0] = int(round(node.df['value'].sum()/len(node.df['value']),0))\n",
    "            return 0\n",
    "        else:\n",
    "            result[0] =  np.random.randint(2) #0,1 is 50%, 50%\n",
    "            return 0\n",
    "\n",
    "    if(sr[node.col] == node.row):\n",
    "        dfPred(node.left, sr)\n",
    "    else:\n",
    "        dfPred(node.right, sr)"
   ]
  },
  {
   "cell_type": "code",
   "execution_count": 39,
   "metadata": {},
   "outputs": [],
   "source": [
    "#labels is predict label\n",
    "labels = []\n",
    "\n",
    "for i in range(len(df)):\n",
    "    result=[True]\n",
    "    dfPred(root, df.loc[i])\n",
    "    labels = labels+result"
   ]
  },
  {
   "cell_type": "markdown",
   "metadata": {},
   "source": [
    "### My decision tree vs sklearn decision tree"
   ]
  },
  {
   "cell_type": "code",
   "execution_count": 40,
   "metadata": {},
   "outputs": [],
   "source": [
    "import time"
   ]
  },
  {
   "cell_type": "code",
   "execution_count": 41,
   "metadata": {},
   "outputs": [
    {
     "data": {
      "text/html": [
       "<div>\n",
       "<style scoped>\n",
       "    .dataframe tbody tr th:only-of-type {\n",
       "        vertical-align: middle;\n",
       "    }\n",
       "\n",
       "    .dataframe tbody tr th {\n",
       "        vertical-align: top;\n",
       "    }\n",
       "\n",
       "    .dataframe thead th {\n",
       "        text-align: right;\n",
       "    }\n",
       "</style>\n",
       "<table border=\"1\" class=\"dataframe\">\n",
       "  <thead>\n",
       "    <tr style=\"text-align: right;\">\n",
       "      <th></th>\n",
       "      <th>PassengerId</th>\n",
       "      <th>Survived</th>\n",
       "      <th>Pclass</th>\n",
       "      <th>Name</th>\n",
       "      <th>Sex</th>\n",
       "      <th>Age</th>\n",
       "      <th>SibSp</th>\n",
       "      <th>Parch</th>\n",
       "      <th>Ticket</th>\n",
       "      <th>Fare</th>\n",
       "      <th>Cabin</th>\n",
       "      <th>Embarked</th>\n",
       "    </tr>\n",
       "  </thead>\n",
       "  <tbody>\n",
       "    <tr>\n",
       "      <td>0</td>\n",
       "      <td>1</td>\n",
       "      <td>0</td>\n",
       "      <td>3</td>\n",
       "      <td>Braund, Mr. Owen Harris</td>\n",
       "      <td>male</td>\n",
       "      <td>22.0</td>\n",
       "      <td>1</td>\n",
       "      <td>0</td>\n",
       "      <td>A/5 21171</td>\n",
       "      <td>7.2500</td>\n",
       "      <td>NaN</td>\n",
       "      <td>S</td>\n",
       "    </tr>\n",
       "    <tr>\n",
       "      <td>1</td>\n",
       "      <td>2</td>\n",
       "      <td>1</td>\n",
       "      <td>1</td>\n",
       "      <td>Cumings, Mrs. John Bradley (Florence Briggs Th...</td>\n",
       "      <td>female</td>\n",
       "      <td>38.0</td>\n",
       "      <td>1</td>\n",
       "      <td>0</td>\n",
       "      <td>PC 17599</td>\n",
       "      <td>71.2833</td>\n",
       "      <td>C85</td>\n",
       "      <td>C</td>\n",
       "    </tr>\n",
       "    <tr>\n",
       "      <td>2</td>\n",
       "      <td>3</td>\n",
       "      <td>1</td>\n",
       "      <td>3</td>\n",
       "      <td>Heikkinen, Miss. Laina</td>\n",
       "      <td>female</td>\n",
       "      <td>26.0</td>\n",
       "      <td>0</td>\n",
       "      <td>0</td>\n",
       "      <td>STON/O2. 3101282</td>\n",
       "      <td>7.9250</td>\n",
       "      <td>NaN</td>\n",
       "      <td>S</td>\n",
       "    </tr>\n",
       "    <tr>\n",
       "      <td>3</td>\n",
       "      <td>4</td>\n",
       "      <td>1</td>\n",
       "      <td>1</td>\n",
       "      <td>Futrelle, Mrs. Jacques Heath (Lily May Peel)</td>\n",
       "      <td>female</td>\n",
       "      <td>35.0</td>\n",
       "      <td>1</td>\n",
       "      <td>0</td>\n",
       "      <td>113803</td>\n",
       "      <td>53.1000</td>\n",
       "      <td>C123</td>\n",
       "      <td>S</td>\n",
       "    </tr>\n",
       "    <tr>\n",
       "      <td>4</td>\n",
       "      <td>5</td>\n",
       "      <td>0</td>\n",
       "      <td>3</td>\n",
       "      <td>Allen, Mr. William Henry</td>\n",
       "      <td>male</td>\n",
       "      <td>35.0</td>\n",
       "      <td>0</td>\n",
       "      <td>0</td>\n",
       "      <td>373450</td>\n",
       "      <td>8.0500</td>\n",
       "      <td>NaN</td>\n",
       "      <td>S</td>\n",
       "    </tr>\n",
       "  </tbody>\n",
       "</table>\n",
       "</div>"
      ],
      "text/plain": [
       "   PassengerId  Survived  Pclass  \\\n",
       "0            1         0       3   \n",
       "1            2         1       1   \n",
       "2            3         1       3   \n",
       "3            4         1       1   \n",
       "4            5         0       3   \n",
       "\n",
       "                                                Name     Sex   Age  SibSp  \\\n",
       "0                            Braund, Mr. Owen Harris    male  22.0      1   \n",
       "1  Cumings, Mrs. John Bradley (Florence Briggs Th...  female  38.0      1   \n",
       "2                             Heikkinen, Miss. Laina  female  26.0      0   \n",
       "3       Futrelle, Mrs. Jacques Heath (Lily May Peel)  female  35.0      1   \n",
       "4                           Allen, Mr. William Henry    male  35.0      0   \n",
       "\n",
       "   Parch            Ticket     Fare Cabin Embarked  \n",
       "0      0         A/5 21171   7.2500   NaN        S  \n",
       "1      0          PC 17599  71.2833   C85        C  \n",
       "2      0  STON/O2. 3101282   7.9250   NaN        S  \n",
       "3      0            113803  53.1000  C123        S  \n",
       "4      0            373450   8.0500   NaN        S  "
      ]
     },
     "execution_count": 41,
     "metadata": {},
     "output_type": "execute_result"
    }
   ],
   "source": [
    "dataset = pd.read_csv(\"titanic.csv\")\n",
    "dataset.head()\n",
    "#dataset=dataset.rename(columns = {\"Outcome\":\"value\"})"
   ]
  },
  {
   "cell_type": "code",
   "execution_count": 42,
   "metadata": {},
   "outputs": [],
   "source": [
    "#select discrete values by X\n",
    "dataset=dataset[['Pclass','Sex','SibSp','Parch','Embarked','Survived']]\n",
    "#y label's column name must be 'value'\n",
    "dataset=dataset.rename(columns = {\"Survived\":\"value\"})"
   ]
  },
  {
   "cell_type": "code",
   "execution_count": 43,
   "metadata": {},
   "outputs": [],
   "source": [
    "#set seed\n",
    "np.random.seed(2020)\n",
    "#shuffle\n",
    "dataset = dataset.sample(frac=1).reset_index(drop=True)\n",
    "\n",
    "train = dataset[:100]\n",
    "test = dataset[-100:]"
   ]
  },
  {
   "cell_type": "code",
   "execution_count": 44,
   "metadata": {},
   "outputs": [],
   "source": [
    "#accuracy function\n",
    "def accuracy(real,pred):\n",
    "    return(1-sum(abs(real-pred))/len(real))"
   ]
  },
  {
   "cell_type": "code",
   "execution_count": 45,
   "metadata": {},
   "outputs": [
    {
     "name": "stdout",
     "output_type": "stream",
     "text": [
      "0.3237636089324951\n"
     ]
    }
   ],
   "source": [
    "start = time.time()\n",
    "root=Node(train)\n",
    "\n",
    "getNodes(root,train)\n",
    "print(time.time() - start)"
   ]
  },
  {
   "cell_type": "code",
   "execution_count": 46,
   "metadata": {},
   "outputs": [],
   "source": [
    "labels = []\n",
    "\n",
    "for i in range(len(test)):\n",
    "    result=[True]\n",
    "    dfPred(root, test.iloc[i])\n",
    "    labels = labels+result"
   ]
  },
  {
   "cell_type": "code",
   "execution_count": 47,
   "metadata": {},
   "outputs": [
    {
     "data": {
      "text/plain": [
       "0.78"
      ]
     },
     "execution_count": 47,
     "metadata": {},
     "output_type": "execute_result"
    }
   ],
   "source": [
    "accuracy(test['value'],labels)"
   ]
  },
  {
   "cell_type": "code",
   "execution_count": 48,
   "metadata": {},
   "outputs": [],
   "source": [
    "train_ = train.apply(lambda col: pd.factorize(col, sort=True)[0])\n",
    "test_ = test.apply(lambda col: pd.factorize(col, sort=True)[0])"
   ]
  },
  {
   "cell_type": "code",
   "execution_count": 49,
   "metadata": {},
   "outputs": [
    {
     "name": "stdout",
     "output_type": "stream",
     "text": [
      "0.0030803680419921875\n"
     ]
    }
   ],
   "source": [
    "start = time.time()\n",
    "dtc = DecisionTreeClassifier(criterion=\"entropy\")\n",
    "dtc = dtc.fit(train_.iloc[:,:-1],train_.iloc[:,-1])\n",
    "\n",
    "pred = dtc.predict(test_.iloc[:,:-1])\n",
    "print(time.time()-start)\n"
   ]
  },
  {
   "cell_type": "code",
   "execution_count": 50,
   "metadata": {},
   "outputs": [
    {
     "data": {
      "text/plain": [
       "0.77"
      ]
     },
     "execution_count": 50,
     "metadata": {},
     "output_type": "execute_result"
    }
   ],
   "source": [
    "accuracy(test['value'],pred)"
   ]
  },
  {
   "cell_type": "markdown",
   "metadata": {},
   "source": [
    "### Result"
   ]
  },
  {
   "cell_type": "markdown",
   "metadata": {},
   "source": [
    "- My algorithm's running time is very slower than sklearn's (100 times slower)<br>\n",
    "- Result is similar (78% vs 77%)<br>\n",
    "We did recursive partitioning and it can induce 'over fitting'. So 'pruning process' is required.<br>\n",
    "$CC(T) = Err(T) + \\alpha \\times L(T)$ can be used for pruning"
   ]
  }
 ],
 "metadata": {
  "kernelspec": {
   "display_name": "Python 3",
   "language": "python",
   "name": "python3"
  },
  "language_info": {
   "codemirror_mode": {
    "name": "ipython",
    "version": 3
   },
   "file_extension": ".py",
   "mimetype": "text/x-python",
   "name": "python",
   "nbconvert_exporter": "python",
   "pygments_lexer": "ipython3",
   "version": "3.7.4"
  }
 },
 "nbformat": 4,
 "nbformat_minor": 4
}
