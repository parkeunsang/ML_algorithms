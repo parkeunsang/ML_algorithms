{
 "cells": [
  {
   "cell_type": "markdown",
   "metadata": {},
   "source": [
    "# Naive Bayes Classifier"
   ]
  },
  {
   "cell_type": "markdown",
   "metadata": {},
   "source": [
    "- 일단 조건부 독립에대해 설명(주사위 예시)\n",
    "- 식으로 표현\n",
    "- 코드\n",
    "- 이산형 -> 연속형으로 가기 위해? class화한후 gauss변환"
   ]
  },
  {
   "cell_type": "markdown",
   "metadata": {},
   "source": [
    "$x_1,...x_n$이 주어졌을 때 $y$의 class를 예측하는 문제를 조건부 확률로 접근<br>\n",
    "$y$의 사건들의 집합을 $S=\\{yes, no\\}$로 가정하고 접근해보자.<br>\n",
    "조건부확률의 정의에 의해 $$p(yes|x_1,...,x_n)=\\frac{p(yes, x_1,...,x_n)}{p(x_1,...,x_n)}$$,\n",
    "$$p(no|x_1,...,x_n)=\\frac{p(no, x_1,...,x_n)}{p(x_1,...,x_n)}$$\n",
    "로 나타낼 수 있다. 두 값들의 확률값을 비교해 확률이 높은 class를 택하면 되고, 두 식의 분모는 y의 class에 무관하므로 분자부분의 값들만 계산하면 된다.<br>\n"
   ]
  },
  {
   "cell_type": "markdown",
   "metadata": {},
   "source": [
    "그런데 데이터의 크기가 작으면 $p(yes,x_1,...,x_n)$의 값은 0인 경우가 많다. 해당 사건들이 동시에 발생하는 경우가 등장하지 않기 때문이다. 나이브 베이즈는 **Naive한 가정(각 $x_i$는 나머지 $x_j$들에 대해 y가 주어진 조건하에 서로 독립이다 - 조건부 독립)** 을 이용해 이러한 문제를 해결할 수 있다."
   ]
  },
  {
   "cell_type": "markdown",
   "metadata": {},
   "source": [
    "$$p(yes,x_1,...,x_n)=p(x_1,...,x_n|yes)\\times p(yes)$$<br>\n",
    "$$=\\frac{p(yes,x_1)}{p(yes)}\\times \\frac{p(yes,x_1,x_2)}{p(yes,x_1)}\\times \\cdots \\times \\frac{p(yes,x_1,...,x_n)}{p(yes,x_1,...,x_{n-1})}\\times p(yes)$$로 나타낼 수 있고,"
   ]
  },
  {
   "cell_type": "markdown",
   "metadata": {},
   "source": [
    "$\\frac{p(yes,x_1,...,x_k)}{p(yes,x_1,...,x_{k-1})}=p(x_k|yes,x_1,...,x_{k-1})=p(x_k|yes)$(by 조건부 독립 가정)<br>\n",
    "따라서 최종적으로 yes, no의 조건부 확률은 다음과 같이 나타낼 수 있다.<br>\n",
    "$$p(yes|x_1,...,x_n) \\propto p(x_1,...,x_n|yes)\\times p(yes)$$\n",
    "$$=p(yes)\\times \\frac{p(yes,x_1)}{p(yes)}\\times \\cdots \\times \\frac{p(yes,x_n)}{p(yes)}=p(yes)\\prod^n_{i=1}p(x_i|yes)$$,\n",
    "$$p(no|x_1,...,x_n) \\propto p(no)\\prod^n_{i=1}p(x_i|yes)$$"
   ]
  },
  {
   "cell_type": "markdown",
   "metadata": {},
   "source": [
    "y의 class를 $C_k$로 확장하면 다음과 같이 나타낼 수 있다.\n",
    "$$p(C_k|x_1,...,x_n) \\propto p(C_k)\\prod^n_{i=1}p(x_i|C_k)$$"
   ]
  },
  {
   "cell_type": "markdown",
   "metadata": {},
   "source": [
    "위와같이 변환하면 $p(C_k|x1,...,x_n)$이 0으로 가는 case를 방지할 수 있다.<br>\n",
    "예측의 경우 해당 확률을 최대화하는 k값으로 예측할 수 있으며, 확률의 경우 softmax를 적용해 구할 수 있을 것이다.<br>\n",
    "softmax 참고 : $\\hat{p}(C_k|x_1,...,x_n) = \\frac{p(C_k)\\prod^n_{i=1}p(x_i|C_k)}{\\sum^n_{j=1}p(C_j)\\prod^n_{i=1}p(x_i|C_j)}$"
   ]
  },
  {
   "cell_type": "code",
   "execution_count": 1,
   "metadata": {},
   "outputs": [],
   "source": [
    "import pandas as pd\n",
    "import numpy as np"
   ]
  },
  {
   "cell_type": "markdown",
   "metadata": {},
   "source": [
    "## Make dataset"
   ]
  },
  {
   "cell_type": "code",
   "execution_count": 187,
   "metadata": {},
   "outputs": [],
   "source": [
    "blood_types = ['A', 'B', 'AB', 'O']\n",
    "glasses = [0, 1]\n",
    "\n",
    "grade = ['A','B','C','D','F']"
   ]
  },
  {
   "cell_type": "code",
   "execution_count": 188,
   "metadata": {},
   "outputs": [],
   "source": [
    "blood_types = ['A', 'A', 'B', 'B', \n",
    "               'B','AB', 'AB', 'O']\n",
    "glasses = [0, 1, 0, 0, 1, 1, 0, 1]\n",
    "passes = [0, 1, 1, 1, 0, 0, 1, 1]"
   ]
  },
  {
   "cell_type": "code",
   "execution_count": 189,
   "metadata": {},
   "outputs": [],
   "source": [
    "df = pd.DataFrame({'blood_type': blood_types, \n",
    "                   'glasses': glasses,\n",
    "                   'pass': passes\n",
    "                  })"
   ]
  },
  {
   "cell_type": "code",
   "execution_count": 294,
   "metadata": {},
   "outputs": [
    {
     "data": {
      "text/html": [
       "<div>\n",
       "<style scoped>\n",
       "    .dataframe tbody tr th:only-of-type {\n",
       "        vertical-align: middle;\n",
       "    }\n",
       "\n",
       "    .dataframe tbody tr th {\n",
       "        vertical-align: top;\n",
       "    }\n",
       "\n",
       "    .dataframe thead th {\n",
       "        text-align: right;\n",
       "    }\n",
       "</style>\n",
       "<table border=\"1\" class=\"dataframe\">\n",
       "  <thead>\n",
       "    <tr style=\"text-align: right;\">\n",
       "      <th></th>\n",
       "      <th>blood_type</th>\n",
       "      <th>glasses</th>\n",
       "      <th>pass</th>\n",
       "    </tr>\n",
       "  </thead>\n",
       "  <tbody>\n",
       "    <tr>\n",
       "      <th>0</th>\n",
       "      <td>A</td>\n",
       "      <td>0</td>\n",
       "      <td>0</td>\n",
       "    </tr>\n",
       "    <tr>\n",
       "      <th>1</th>\n",
       "      <td>A</td>\n",
       "      <td>1</td>\n",
       "      <td>1</td>\n",
       "    </tr>\n",
       "    <tr>\n",
       "      <th>2</th>\n",
       "      <td>B</td>\n",
       "      <td>0</td>\n",
       "      <td>1</td>\n",
       "    </tr>\n",
       "    <tr>\n",
       "      <th>3</th>\n",
       "      <td>B</td>\n",
       "      <td>0</td>\n",
       "      <td>1</td>\n",
       "    </tr>\n",
       "    <tr>\n",
       "      <th>4</th>\n",
       "      <td>B</td>\n",
       "      <td>1</td>\n",
       "      <td>0</td>\n",
       "    </tr>\n",
       "    <tr>\n",
       "      <th>5</th>\n",
       "      <td>AB</td>\n",
       "      <td>1</td>\n",
       "      <td>0</td>\n",
       "    </tr>\n",
       "    <tr>\n",
       "      <th>6</th>\n",
       "      <td>AB</td>\n",
       "      <td>0</td>\n",
       "      <td>1</td>\n",
       "    </tr>\n",
       "    <tr>\n",
       "      <th>7</th>\n",
       "      <td>O</td>\n",
       "      <td>1</td>\n",
       "      <td>1</td>\n",
       "    </tr>\n",
       "  </tbody>\n",
       "</table>\n",
       "</div>"
      ],
      "text/plain": [
       "  blood_type  glasses  pass\n",
       "0          A        0     0\n",
       "1          A        1     1\n",
       "2          B        0     1\n",
       "3          B        0     1\n",
       "4          B        1     0\n",
       "5         AB        1     0\n",
       "6         AB        0     1\n",
       "7          O        1     1"
      ]
     },
     "execution_count": 294,
     "metadata": {},
     "output_type": "execute_result"
    }
   ],
   "source": [
    "df"
   ]
  },
  {
   "cell_type": "code",
   "execution_count": 291,
   "metadata": {},
   "outputs": [],
   "source": [
    "X = df.iloc[:,:-1]"
   ]
  },
  {
   "cell_type": "code",
   "execution_count": 292,
   "metadata": {},
   "outputs": [],
   "source": [
    "y = df.iloc[:,-1]"
   ]
  },
  {
   "cell_type": "markdown",
   "metadata": {},
   "source": [
    "## Train"
   ]
  },
  {
   "cell_type": "code",
   "execution_count": null,
   "metadata": {},
   "outputs": [],
   "source": [
    "def get_ratio(df, cx, cy):\n",
    "    df = df.copy()\n",
    "    df['count'] = 1  # count\n",
    "    pivot = pd.pivot_table(df, index=cx, columns=cy, values='count', aggfunc=np.sum)\n",
    "    pivot['sum'] = pivot.sum(axis=1)\n",
    "    pivot = pivot.apply(lambda x:x[:-1] / x['sum'],axis=1)\n",
    "    pivot = pivot.fillna(0)\n",
    "    return pivot.to_dict()"
   ]
  },
  {
   "cell_type": "code",
   "execution_count": 296,
   "metadata": {},
   "outputs": [],
   "source": [
    "def train(X, y):\n",
    "    df = pd.concat([X,y], axis=1)\n",
    "    col_x = df.columns[:-1]  # 열 이름들\n",
    "    col_y = df.columns[-1]\n",
    "\n",
    "    param = {}  # 학습된 파라미터들\n",
    "    for cx in col_x:\n",
    "        param[cx] = get_ratio(df, cx, col_y)\n",
    "\n",
    "    y_ratio = {}  # 조건부 확률이 아닌 그냥 p(C_k)\n",
    "    for y_val in y.unique():\n",
    "        y_ratio[y_val] = np.mean(df[col_y] == y_val)\n",
    "    param['y'] = y_ratio\n",
    "    return param"
   ]
  },
  {
   "cell_type": "code",
   "execution_count": 297,
   "metadata": {},
   "outputs": [
    {
     "data": {
      "text/plain": [
       "{'blood_type': {0: {'A': 0.5, 'AB': 0.5, 'B': 0.3333333333333333, 'O': 0.0},\n",
       "  1: {'A': 0.5, 'AB': 0.5, 'B': 0.6666666666666666, 'O': 1.0}},\n",
       " 'glasses': {0: {0: 0.25, 1: 0.5}, 1: {0: 0.75, 1: 0.5}},\n",
       " 'y': {0: 0.375, 1: 0.625}}"
      ]
     },
     "execution_count": 297,
     "metadata": {},
     "output_type": "execute_result"
    }
   ],
   "source": [
    "train(X,y)"
   ]
  },
  {
   "cell_type": "markdown",
   "metadata": {},
   "source": [
    "blood_type을 예시로 설명하면 $P(y=0|blood\\_type=A)=0.5,\\ P(y=1|blood\\_type=A)=0.5$ 라는 뜻이다.<br>\n",
    "또 $P(y=0)=0.375,\\ P(y=1)=0.625$ 이다."
   ]
  },
  {
   "cell_type": "markdown",
   "metadata": {},
   "source": [
    "blood_type이 B이고 pass=1인 경우는 2가지, blood_type이 B이고 pass=0인 경우는 한가지이므로<br>\n",
    "$P(y=0|blood\\_type=B)=0.666666$ 이 된다."
   ]
  },
  {
   "cell_type": "markdown",
   "metadata": {},
   "source": [
    "## Test"
   ]
  },
  {
   "cell_type": "code",
   "execution_count": 212,
   "metadata": {},
   "outputs": [],
   "source": [
    "X_test = pd.DataFrame({'blood_type': ['A','B','O'], 'glasses': [0, 1, 0]})"
   ]
  },
  {
   "cell_type": "code",
   "execution_count": 299,
   "metadata": {},
   "outputs": [],
   "source": [
    "def test(X_test):\n",
    "    col_x = X_test.columns\n",
    "    y_pred = []\n",
    "    for i in range(len(X_test)):\n",
    "        row = X_test.iloc[i]\n",
    "        probs = []\n",
    "\n",
    "        for y_val in y.unique():\n",
    "            prob = param['y'][y_val]\n",
    "            for i in range(len(col_x)):\n",
    "                prob *= param[col_x[0]][y_val][row[0]]\n",
    "\n",
    "            probs.append(prob)\n",
    "        y_pred.append(probs)\n",
    "\n",
    "    y_pred = pd.DataFrame(y_pred)\n",
    "    y_pred['sum'] = y_pred.sum(axis=1)\n",
    "    y_pred = y_pred.apply(lambda x:x[:-1]/x['sum'], axis=1)\n",
    "    y_pred.columns = y.unique()\n",
    "    return y_pred"
   ]
  },
  {
   "cell_type": "code",
   "execution_count": 301,
   "metadata": {},
   "outputs": [
    {
     "data": {
      "text/html": [
       "<div>\n",
       "<style scoped>\n",
       "    .dataframe tbody tr th:only-of-type {\n",
       "        vertical-align: middle;\n",
       "    }\n",
       "\n",
       "    .dataframe tbody tr th {\n",
       "        vertical-align: top;\n",
       "    }\n",
       "\n",
       "    .dataframe thead th {\n",
       "        text-align: right;\n",
       "    }\n",
       "</style>\n",
       "<table border=\"1\" class=\"dataframe\">\n",
       "  <thead>\n",
       "    <tr style=\"text-align: right;\">\n",
       "      <th></th>\n",
       "      <th>blood_type</th>\n",
       "      <th>glasses</th>\n",
       "    </tr>\n",
       "  </thead>\n",
       "  <tbody>\n",
       "    <tr>\n",
       "      <th>0</th>\n",
       "      <td>A</td>\n",
       "      <td>0</td>\n",
       "    </tr>\n",
       "    <tr>\n",
       "      <th>1</th>\n",
       "      <td>B</td>\n",
       "      <td>1</td>\n",
       "    </tr>\n",
       "    <tr>\n",
       "      <th>2</th>\n",
       "      <td>O</td>\n",
       "      <td>0</td>\n",
       "    </tr>\n",
       "  </tbody>\n",
       "</table>\n",
       "</div>"
      ],
      "text/plain": [
       "  blood_type  glasses\n",
       "0          A        0\n",
       "1          B        1\n",
       "2          O        0"
      ]
     },
     "execution_count": 301,
     "metadata": {},
     "output_type": "execute_result"
    }
   ],
   "source": [
    "X_test"
   ]
  },
  {
   "cell_type": "code",
   "execution_count": 303,
   "metadata": {},
   "outputs": [
    {
     "data": {
      "text/html": [
       "<div>\n",
       "<style scoped>\n",
       "    .dataframe tbody tr th:only-of-type {\n",
       "        vertical-align: middle;\n",
       "    }\n",
       "\n",
       "    .dataframe tbody tr th {\n",
       "        vertical-align: top;\n",
       "    }\n",
       "\n",
       "    .dataframe thead th {\n",
       "        text-align: right;\n",
       "    }\n",
       "</style>\n",
       "<table border=\"1\" class=\"dataframe\">\n",
       "  <thead>\n",
       "    <tr style=\"text-align: right;\">\n",
       "      <th></th>\n",
       "      <th>0</th>\n",
       "      <th>1</th>\n",
       "    </tr>\n",
       "  </thead>\n",
       "  <tbody>\n",
       "    <tr>\n",
       "      <th>0</th>\n",
       "      <td>0.375000</td>\n",
       "      <td>0.625000</td>\n",
       "    </tr>\n",
       "    <tr>\n",
       "      <th>1</th>\n",
       "      <td>0.130435</td>\n",
       "      <td>0.869565</td>\n",
       "    </tr>\n",
       "    <tr>\n",
       "      <th>2</th>\n",
       "      <td>0.000000</td>\n",
       "      <td>1.000000</td>\n",
       "    </tr>\n",
       "  </tbody>\n",
       "</table>\n",
       "</div>"
      ],
      "text/plain": [
       "          0         1\n",
       "0  0.375000  0.625000\n",
       "1  0.130435  0.869565\n",
       "2  0.000000  1.000000"
      ]
     },
     "execution_count": 303,
     "metadata": {},
     "output_type": "execute_result"
    }
   ],
   "source": [
    "test(X_test)  # 예측 결과"
   ]
  },
  {
   "cell_type": "markdown",
   "metadata": {},
   "source": [
    "## Result"
   ]
  },
  {
   "cell_type": "code",
   "execution_count": 302,
   "metadata": {},
   "outputs": [
    {
     "data": {
      "text/html": [
       "<div>\n",
       "<style scoped>\n",
       "    .dataframe tbody tr th:only-of-type {\n",
       "        vertical-align: middle;\n",
       "    }\n",
       "\n",
       "    .dataframe tbody tr th {\n",
       "        vertical-align: top;\n",
       "    }\n",
       "\n",
       "    .dataframe thead th {\n",
       "        text-align: right;\n",
       "    }\n",
       "</style>\n",
       "<table border=\"1\" class=\"dataframe\">\n",
       "  <thead>\n",
       "    <tr style=\"text-align: right;\">\n",
       "      <th></th>\n",
       "      <th>blood_type</th>\n",
       "      <th>glasses</th>\n",
       "      <th>pass</th>\n",
       "    </tr>\n",
       "  </thead>\n",
       "  <tbody>\n",
       "    <tr>\n",
       "      <th>0</th>\n",
       "      <td>A</td>\n",
       "      <td>0</td>\n",
       "      <td>0</td>\n",
       "    </tr>\n",
       "    <tr>\n",
       "      <th>1</th>\n",
       "      <td>A</td>\n",
       "      <td>1</td>\n",
       "      <td>1</td>\n",
       "    </tr>\n",
       "    <tr>\n",
       "      <th>2</th>\n",
       "      <td>B</td>\n",
       "      <td>0</td>\n",
       "      <td>1</td>\n",
       "    </tr>\n",
       "    <tr>\n",
       "      <th>3</th>\n",
       "      <td>B</td>\n",
       "      <td>0</td>\n",
       "      <td>1</td>\n",
       "    </tr>\n",
       "    <tr>\n",
       "      <th>4</th>\n",
       "      <td>B</td>\n",
       "      <td>1</td>\n",
       "      <td>0</td>\n",
       "    </tr>\n",
       "    <tr>\n",
       "      <th>5</th>\n",
       "      <td>AB</td>\n",
       "      <td>1</td>\n",
       "      <td>0</td>\n",
       "    </tr>\n",
       "    <tr>\n",
       "      <th>6</th>\n",
       "      <td>AB</td>\n",
       "      <td>0</td>\n",
       "      <td>1</td>\n",
       "    </tr>\n",
       "    <tr>\n",
       "      <th>7</th>\n",
       "      <td>O</td>\n",
       "      <td>1</td>\n",
       "      <td>1</td>\n",
       "    </tr>\n",
       "  </tbody>\n",
       "</table>\n",
       "</div>"
      ],
      "text/plain": [
       "  blood_type  glasses  pass\n",
       "0          A        0     0\n",
       "1          A        1     1\n",
       "2          B        0     1\n",
       "3          B        0     1\n",
       "4          B        1     0\n",
       "5         AB        1     0\n",
       "6         AB        0     1\n",
       "7          O        1     1"
      ]
     },
     "execution_count": 302,
     "metadata": {},
     "output_type": "execute_result"
    }
   ],
   "source": [
    "df"
   ]
  },
  {
   "cell_type": "markdown",
   "metadata": {},
   "source": [
    "frequentist의 관점에서 살펴보면 $P(y=0|blood\\_type=A,glasses=0)=P(y=0|blood\\_type=A,glasses=1)=0.5$ 이지만,<br>\n",
    "Naive한 가정하에 bayesian 관점에서 확률은 각각 0.375, 0.625로 차이를 보임을 알 수 있다.<br>\n",
    "**Frequentist vs Bayesian :** 만약 blood_type과 glasses가 조건부(given pass)독립이 아니라면 빈도주의관점에서 접근하는게 더 정확하다.<br>\n",
    "하지만 주어진 데이터가 얼마없을 경우, X의 차원이 클 경우 **각각의 빈도당 표본이 적어** 베이지안 관점이 좀더 정확한 결과를 낼 수 있을 것이다."
   ]
  }
 ],
 "metadata": {
  "kernelspec": {
   "display_name": "Python 3",
   "language": "python",
   "name": "python3"
  },
  "language_info": {
   "codemirror_mode": {
    "name": "ipython",
    "version": 3
   },
   "file_extension": ".py",
   "mimetype": "text/x-python",
   "name": "python",
   "nbconvert_exporter": "python",
   "pygments_lexer": "ipython3",
   "version": "3.8.7"
  }
 },
 "nbformat": 4,
 "nbformat_minor": 4
}
