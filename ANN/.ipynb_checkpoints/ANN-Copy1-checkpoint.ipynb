{
 "cells": [
  {
   "cell_type": "markdown",
   "metadata": {},
   "source": [
    "## ANN(Artificial Neural Network)"
   ]
  },
  {
   "cell_type": "markdown",
   "metadata": {},
   "source": [
    "#### Reference\n",
    "https://github.com/WegraLee/deep-learning-from-scratch<br>"
   ]
  },
  {
   "cell_type": "markdown",
   "metadata": {},
   "source": [
    "### Model Learning Process\n",
    ">1. Set node strcture(multiple layers), activation function(lelu, softmax,..) and loss function(mse,mae, cross entropy,...)\n",
    "2. Minimize loss function using gradient descent method<br>\n",
    "*There are many methods for minimizing loss"
   ]
  },
  {
   "cell_type": "code",
   "execution_count": 1,
   "metadata": {},
   "outputs": [],
   "source": [
    "import numpy as np\n",
    "import pandas as pd"
   ]
  },
  {
   "cell_type": "code",
   "execution_count": 2,
   "metadata": {},
   "outputs": [],
   "source": [
    "import seaborn as sns"
   ]
  },
  {
   "cell_type": "code",
   "execution_count": 3,
   "metadata": {},
   "outputs": [],
   "source": [
    "def softmax(x):\n",
    "    if x.ndim == 2:\n",
    "        x = x.T\n",
    "        x = x - np.max(x, axis=0)\n",
    "        y = np.exp(x) / np.sum(np.exp(x), axis=0)\n",
    "        return y.T \n",
    "\n",
    "    x = x - np.max(x) # 오버플로 대책\n",
    "    return np.exp(x) / np.sum(np.exp(x))"
   ]
  },
  {
   "cell_type": "code",
   "execution_count": 4,
   "metadata": {},
   "outputs": [],
   "source": [
    "def numerical_gradient(f, x):\n",
    "    h = 1e-4 # 0.0001\n",
    "    grad = np.zeros_like(x)\n",
    "    \n",
    "    it = np.nditer(x, flags=['multi_index'], op_flags=['readwrite'])\n",
    "    while not it.finished:\n",
    "        idx = it.multi_index\n",
    "        tmp_val = x[idx]\n",
    "        x[idx] = float(tmp_val) + h\n",
    "        fxh1 = f(x) # f(x+h)\n",
    "        \n",
    "        x[idx] = tmp_val - h \n",
    "        fxh2 = f(x) # f(x-h)\n",
    "        grad[idx] = (fxh1 - fxh2) / (2*h)\n",
    "        \n",
    "        x[idx] = tmp_val # 값 복원\n",
    "        it.iternext()   \n",
    "        \n",
    "    return grad"
   ]
  },
  {
   "cell_type": "code",
   "execution_count": 5,
   "metadata": {},
   "outputs": [],
   "source": [
    "def cross_entropy_error(y, t):\n",
    "    if y.ndim == 1:\n",
    "        t = t.reshape(1, t.size)\n",
    "        y = y.reshape(1, y.size)\n",
    "        \n",
    "    # 훈련 데이터가 원-핫 벡터라면 정답 레이블의 인덱스로 반환\n",
    "    if t.size == y.size:\n",
    "        t = t.argmax(axis=1)\n",
    "             \n",
    "    batch_size = y.shape[0]\n",
    "    return -np.sum(np.log(y[np.arange(batch_size), t] + 1e-7)) / batch_size\n"
   ]
  },
  {
   "cell_type": "code",
   "execution_count": 6,
   "metadata": {},
   "outputs": [
    {
     "name": "stdout",
     "output_type": "stream",
     "text": [
      "[[ 0.0442555   0.24983175 -0.29408725]\n",
      " [ 0.06638324  0.37474763 -0.44113087]]\n"
     ]
    }
   ],
   "source": [
    "class simpleNet:\n",
    "    def __init__(self):\n",
    "        self.W = np.random.randn(2,3) # 정규분포로 초기화\n",
    "\n",
    "    def predict(self, x):\n",
    "        return np.dot(x, self.W)\n",
    "\n",
    "    def loss(self, x, t):\n",
    "        z = self.predict(x)\n",
    "        y = softmax(z)\n",
    "        loss = cross_entropy_error(y, t)\n",
    "\n",
    "        return loss\n",
    "\n",
    "x = np.array([0.6, 0.9])\n",
    "t = np.array([0, 0, 1])\n",
    "\n",
    "net = simpleNet()\n",
    "\n",
    "f = lambda w: net.loss(x, t)\n",
    "dW = numerical_gradient(f, net.W)\n",
    "\n",
    "print(dW)"
   ]
  },
  {
   "cell_type": "code",
   "execution_count": 7,
   "metadata": {},
   "outputs": [],
   "source": [
    "temp = np.array([[1,2,3],[2,3,4]]).reshape(1,6)"
   ]
  },
  {
   "cell_type": "code",
   "execution_count": 8,
   "metadata": {},
   "outputs": [
    {
     "data": {
      "text/plain": [
       "(3, 2)"
      ]
     },
     "execution_count": 8,
     "metadata": {},
     "output_type": "execute_result"
    }
   ],
   "source": [
    "np.array([[1,2],[2,3],[3,4]]).shape"
   ]
  },
  {
   "cell_type": "code",
   "execution_count": 9,
   "metadata": {},
   "outputs": [],
   "source": [
    "np.random.seed(1000)\n",
    "w = np.random.randn(2,3)"
   ]
  },
  {
   "cell_type": "code",
   "execution_count": 10,
   "metadata": {},
   "outputs": [],
   "source": [
    "x = np.array([0.6, 0.9])\n",
    "t = np.array([0, 0, 1])"
   ]
  },
  {
   "cell_type": "code",
   "execution_count": 11,
   "metadata": {},
   "outputs": [],
   "source": [
    "#classification \n",
    "def softmax(arr):\n",
    "    arr = arr - np.max(arr) \n",
    "    return(np.exp(arr)/sum(np.exp(arr)))"
   ]
  },
  {
   "cell_type": "code",
   "execution_count": 12,
   "metadata": {},
   "outputs": [],
   "source": [
    "arr = np.dot(x,w)"
   ]
  },
  {
   "cell_type": "markdown",
   "metadata": {},
   "source": [
    "### ANN for regression"
   ]
  },
  {
   "cell_type": "code",
   "execution_count": 64,
   "metadata": {},
   "outputs": [],
   "source": [
    "#random sample\n",
    "#w=2, b=5\n",
    "np.random.seed(1000)\n",
    "X = np.random.normal(2,2,100)\n",
    "y = 2*X + 5 + np.random.normal(0,1,100)\n"
   ]
  },
  {
   "cell_type": "code",
   "execution_count": 67,
   "metadata": {},
   "outputs": [
    {
     "data": {
      "text/plain": [
       "<matplotlib.axes._subplots.AxesSubplot at 0x7fe387b93748>"
      ]
     },
     "execution_count": 67,
     "metadata": {},
     "output_type": "execute_result"
    },
    {
     "data": {
      "image/png": "[encoded data removed]",
      "text/plain": [
       "<Figure size 432x288 with 1 Axes>"
      ]
     },
     "metadata": {
      "needs_background": "light"
     },
     "output_type": "display_data"
    }
   ],
   "source": [
    "sns.scatterplot(X,y)"
   ]
  },
  {
   "cell_type": "code",
   "execution_count": 68,
   "metadata": {},
   "outputs": [],
   "source": [
    "#loss function\n",
    "def mse(y,yPred):\n",
    "    value = (sum((y-yPred)**2))/len(y)\n",
    "    return(value)"
   ]
  },
  {
   "cell_type": "code",
   "execution_count": 72,
   "metadata": {},
   "outputs": [
    {
     "data": {
      "text/plain": [
       "101.00233156025031"
      ]
     },
     "execution_count": 72,
     "metadata": {},
     "output_type": "execute_result"
    }
   ],
   "source": [
    "#predict y to zero\n",
    "yPred = 0\n",
    "mse(y,yPred)"
   ]
  },
  {
   "cell_type": "code",
   "execution_count": 73,
   "metadata": {},
   "outputs": [],
   "source": [
    "def gradient(f,w,b,h=1e-4):\n",
    "    \n",
    "    wGrad = (f(y,X*(w+h)+b)-f(y,X*w+b))/h\n",
    "    bGrad = (f(y,X*w+b+h)-f(y,X*w+b))/h\n",
    "    return(wGrad,bGrad)"
   ]
  },
  {
   "cell_type": "code",
   "execution_count": 75,
   "metadata": {},
   "outputs": [],
   "source": [
    "#model learning\n",
    "lamb = 1e-3 #step\n",
    "w,b = 1,1 #init value\n",
    "for i in range(1000): #iter is 1000\n",
    "    grad = gradient(mse,w,b)\n",
    "    w = w - lamb*grad[0]\n",
    "    b = b - lamb*grad[1]\n",
    "    "
   ]
  },
  {
   "cell_type": "code",
   "execution_count": 76,
   "metadata": {},
   "outputs": [
    {
     "name": "stdout",
     "output_type": "stream",
     "text": [
      "2.3620967110925286 3.444689278958152\n"
     ]
    }
   ],
   "source": [
    "#similar to (w,b)=(2,5)\n",
    "print(w,b)"
   ]
  },
  {
   "cell_type": "code",
   "execution_count": 78,
   "metadata": {},
   "outputs": [],
   "source": [
    "yPred = X*w+b"
   ]
  },
  {
   "cell_type": "code",
   "execution_count": 79,
   "metadata": {},
   "outputs": [
    {
     "data": {
      "text/plain": [
       "1.689499527475509"
      ]
     },
     "execution_count": 79,
     "metadata": {},
     "output_type": "execute_result"
    }
   ],
   "source": [
    "mse(y,yPred)"
   ]
  },
  {
   "cell_type": "code",
   "execution_count": 80,
   "metadata": {},
   "outputs": [
    {
     "data": {
      "text/plain": [
       "0.9327429605692269"
      ]
     },
     "execution_count": 80,
     "metadata": {},
     "output_type": "execute_result"
    }
   ],
   "source": [
    "#mse of answer value of w,b \n",
    "mse(y,X*2+5)"
   ]
  },
  {
   "cell_type": "markdown",
   "metadata": {},
   "source": [
    "### input node : 3"
   ]
  },
  {
   "cell_type": "markdown",
   "metadata": {},
   "source": [
    "#### 1 layer"
   ]
  },
  {
   "cell_type": "code",
   "execution_count": 82,
   "metadata": {},
   "outputs": [],
   "source": [
    "#Xw+b\n",
    "#w = (1,5,-3), b=5\n",
    "np.random.seed(10)\n",
    "x1 = np.random.normal(10,10,100)\n",
    "x2 = np.random.normal(5,10,100)\n",
    "x3 = np.random.normal(-5,10,100)\n",
    "\n",
    "y = x1+5*x2-3*x3+5+np.random.normal(0,1,100)"
   ]
  },
  {
   "cell_type": "code",
   "execution_count": 83,
   "metadata": {},
   "outputs": [],
   "source": [
    "#b=np.ones_like(x1)\n",
    "X = pd.DataFrame([x1,x2,x3]).T\n",
    "X.columns = ['x1','x2','x3']"
   ]
  },
  {
   "cell_type": "code",
   "execution_count": 84,
   "metadata": {},
   "outputs": [],
   "source": [
    "#randomize init parameters\n",
    "np.random.seed(100)\n",
    "w = np.random.rand(3)\n",
    "b = np.random.rand(1)"
   ]
  },
  {
   "cell_type": "code",
   "execution_count": 85,
   "metadata": {},
   "outputs": [],
   "source": [
    "yPred = np.dot(X,w)+b"
   ]
  },
  {
   "cell_type": "code",
   "execution_count": 87,
   "metadata": {},
   "outputs": [
    {
     "name": "stdout",
     "output_type": "stream",
     "text": [
      "[0.54340494 0.27836939 0.42451759]\n",
      "[0.84477613]\n"
     ]
    }
   ],
   "source": [
    "#before learning\n",
    "print(w)\n",
    "print(b)"
   ]
  },
  {
   "cell_type": "code",
   "execution_count": 88,
   "metadata": {},
   "outputs": [
    {
     "data": {
      "text/plain": [
       "5843.930822209296"
      ]
     },
     "execution_count": 88,
     "metadata": {},
     "output_type": "execute_result"
    }
   ],
   "source": [
    "#mse before learning \n",
    "mse(y,yPred)"
   ]
  },
  {
   "cell_type": "code",
   "execution_count": 90,
   "metadata": {},
   "outputs": [],
   "source": [
    "def gradient_1d(f,w,b,h=1e-4):\n",
    "    yPred = np.dot(X,w)+b\n",
    "    wGrad = np.zeros_like(w)\n",
    "    bGrad = 0 #temp\n",
    "    for idx,i in enumerate(w):\n",
    "        w_ = w.copy()\n",
    "        b_ = b.copy()\n",
    "        \n",
    "        w_[idx] = w_[idx]+h\n",
    "       \n",
    "        yPred_ = np.dot(X,w_)+b\n",
    "        \n",
    "        wGrad[idx] = (f(y,yPred_)-f(y,yPred))/h\n",
    "    \n",
    "    b_ = b.copy()\n",
    "    b_ = b+h\n",
    "    yPred = np.dot(X,w)+b_\n",
    "    bGrad = (f(y,yPred_)-f(y,yPred))/h\n",
    "    \n",
    "    return(wGrad,bGrad)"
   ]
  },
  {
   "cell_type": "code",
   "execution_count": 91,
   "metadata": {},
   "outputs": [],
   "source": [
    "lamb = 1e-4\n",
    "for i in range(1000):\n",
    "    grad = gradient_1d(mse,w,b)\n",
    "    w = w - lamb*grad[0]\n",
    "    b = b - lamb*grad[1]\n",
    "    "
   ]
  },
  {
   "cell_type": "code",
   "execution_count": 96,
   "metadata": {},
   "outputs": [
    {
     "name": "stdout",
     "output_type": "stream",
     "text": [
      "[ 1.33862193  5.16880288 -3.18721487]\n",
      "[-3.54718563]\n"
     ]
    }
   ],
   "source": [
    "#close to answer (w=(1,5,-3), b=5)\n",
    "print(w)\n",
    "print(b)"
   ]
  },
  {
   "cell_type": "code",
   "execution_count": 97,
   "metadata": {},
   "outputs": [],
   "source": [
    "yPred = np.dot(X,w)+b"
   ]
  },
  {
   "cell_type": "code",
   "execution_count": 98,
   "metadata": {},
   "outputs": [
    {
     "data": {
      "text/plain": [
       "26.76356067093869"
      ]
     },
     "execution_count": 98,
     "metadata": {},
     "output_type": "execute_result"
    }
   ],
   "source": [
    "mse(y,yPred)"
   ]
  },
  {
   "cell_type": "code",
   "execution_count": 99,
   "metadata": {},
   "outputs": [
    {
     "data": {
      "text/plain": [
       "26.67332046856018"
      ]
     },
     "execution_count": 99,
     "metadata": {},
     "output_type": "execute_result"
    }
   ],
   "source": [
    "#true w,b\n",
    "w=[1,5,-3]\n",
    "b=5\n",
    "mse(y,np.dot(X,w))"
   ]
  },
  {
   "cell_type": "markdown",
   "metadata": {},
   "source": [
    "#### 2 layer\n",
    "3 - 4 - 1"
   ]
  },
  {
   "cell_type": "code",
   "execution_count": 100,
   "metadata": {},
   "outputs": [],
   "source": [
    "#Xw+b\n",
    "np.random.seed(10)\n",
    "x1 = np.random.normal(10,10,100)\n",
    "x2 = np.random.normal(5,10,100)\n",
    "x3 = np.random.normal(-5,10,100)\n",
    "\n",
    "y = x1+5*x2-3*x3+5+np.random.normal(0,1,100)"
   ]
  },
  {
   "cell_type": "code",
   "execution_count": 101,
   "metadata": {},
   "outputs": [],
   "source": [
    "X = pd.DataFrame([x1,x2,x3]).T\n",
    "X.columns = ['x1','x2','x3']"
   ]
  },
  {
   "cell_type": "code",
   "execution_count": 102,
   "metadata": {},
   "outputs": [],
   "source": [
    "np.random.seed(1001)\n",
    "w1 = np.random.rand(3,4)\n",
    "b1 = np.random.rand(1)\n",
    "w2 = np.random.rand(4,1)\n",
    "b2 = np.random.rand(1)\n",
    "W = [w1,w2]\n",
    "B = [b1,b2]"
   ]
  },
  {
   "cell_type": "code",
   "execution_count": 183,
   "metadata": {},
   "outputs": [],
   "source": [
    "def predict(W,B,X):\n",
    "        outputTemp = np.dot(X,W[0])+B[0].T\n",
    "        for i in range(1,len(W)):\n",
    "            outputTemp = np.dot(outputTemp,W[i])+B[i]\n",
    "        return(outputTemp.reshape(len(X),))"
   ]
  },
  {
   "cell_type": "code",
   "execution_count": 185,
   "metadata": {},
   "outputs": [],
   "source": [
    "def gradient(f,W,B,nth,h=1e-6):\n",
    "#     wGrad = np.zeros_like(W[nth])\n",
    "#     bGrad = np.zeros_like(B[nth])\n",
    "    \n",
    "    wGrad = []\n",
    "    bGrad = []\n",
    "    for i in range(W[nth].shape[0]):\n",
    "        \n",
    "        for j in range(W[nth].shape[1]):\n",
    "\n",
    "            W_ = W.copy()\n",
    "            \n",
    "            Wh = W[nth].copy()\n",
    "            \n",
    "            Wh[i,j] = W[nth][i,j]+h\n",
    "            W_[nth] = Wh\n",
    "            wGrad.append(( f(y,predict(W_,B,X)) - f(y,predict(W,B,X)) )/h)\n",
    "    \n",
    "#    wGrad = np.array(wGrad).reshape(W[nth].shape)\n",
    "    for i in range(len(B[nth])):\n",
    "        B_ = B.copy()\n",
    "        \n",
    "        Bh = B[nth].copy()\n",
    "        Bh[i] = B[nth][i] + h\n",
    "        \n",
    "        B_[nth] = Bh\n",
    "                  \n",
    "        bGrad.append( (f(y,predict(W,B_,X))-f(y,predict(W,B,X)))/h)\n",
    "   \n",
    "    wGrad = np.array(wGrad).reshape(W[nth].shape)\n",
    "    bGrad = np.array(bGrad).reshape(B[nth].shape)\n",
    "    \n",
    "    return((wGrad,bGrad))\n",
    "    "
   ]
  },
  {
   "cell_type": "code",
   "execution_count": 186,
   "metadata": {},
   "outputs": [],
   "source": [
    "#w1(first layer) is 3x4(the number of input node is 3), w2(second layer) is 4x1\n",
    "#b1 is 4x1 and b2 is 1x1\n",
    "np.random.seed(1001)\n",
    "w1 = np.random.rand(3,4)\n",
    "b1 = np.random.rand(4,1)\n",
    "w2 = np.random.rand(4,1)\n",
    "b2 = np.random.rand(1)\n",
    "W = [w1,w2]\n",
    "B = [b1,b2]"
   ]
  },
  {
   "cell_type": "code",
   "execution_count": 187,
   "metadata": {},
   "outputs": [],
   "source": [
    "#more slower to learning model \n",
    "lam = 1e-5\n",
    "for i in range(1000):\n",
    "    for n in range(2):\n",
    "        W[n] = W[n] - lam* gradient(mse,W,B,n)[0]\n",
    "        B[n] = B[n] - lam* gradient(mse,W,B,n)[1]"
   ]
  },
  {
   "cell_type": "code",
   "execution_count": 188,
   "metadata": {},
   "outputs": [
    {
     "data": {
      "text/plain": [
       "[array([[ 0.41585012,  0.3432036 ,  0.2611423 ,  0.33518046],\n",
       "        [ 0.64045933,  0.37399317,  1.8498724 ,  0.67635428],\n",
       "        [-0.14872007,  0.38738077, -1.10712764, -0.61274598]]),\n",
       " array([[ 0.63857257],\n",
       "        [-0.00923913],\n",
       "        [ 2.19999628],\n",
       "        [ 0.86159259]])]"
      ]
     },
     "execution_count": 188,
     "metadata": {},
     "output_type": "execute_result"
    }
   ],
   "source": [
    "W"
   ]
  },
  {
   "cell_type": "code",
   "execution_count": 189,
   "metadata": {},
   "outputs": [
    {
     "data": {
      "text/plain": [
       "[array([[0.53546686],\n",
       "        [0.93224894],\n",
       "        [0.23020233],\n",
       "        [0.44838607]]), array([0.78932797])]"
      ]
     },
     "execution_count": 189,
     "metadata": {},
     "output_type": "execute_result"
    }
   ],
   "source": [
    "B"
   ]
  },
  {
   "cell_type": "code",
   "execution_count": 191,
   "metadata": {},
   "outputs": [
    {
     "data": {
      "text/plain": [
       "4.052057552325401"
      ]
     },
     "execution_count": 191,
     "metadata": {},
     "output_type": "execute_result"
    }
   ],
   "source": [
    "#less than 1d ann and answer of w,b\n",
    "mse(y,predict(W,B,X))"
   ]
  },
  {
   "cell_type": "markdown",
   "metadata": {},
   "source": [
    "### Result"
   ]
  },
  {
   "cell_type": "markdown",
   "metadata": {},
   "source": [
    "I used rough differential for gradient method. So it took much time to learn parameters.<br>\n",
    "If you use 'backpropagation' for gradient method, you'll get better result."
   ]
  }
 ],
 "metadata": {
  "kernelspec": {
   "display_name": "py35",
   "language": "python",
   "name": "py35"
  },
  "language_info": {
   "codemirror_mode": {
    "name": "ipython",
    "version": 3
   },
   "file_extension": ".py",
   "mimetype": "text/x-python",
   "name": "python",
   "nbconvert_exporter": "python",
   "pygments_lexer": "ipython3",
   "version": "3.5.6"
  }
 },
 "nbformat": 4,
 "nbformat_minor": 4
}
