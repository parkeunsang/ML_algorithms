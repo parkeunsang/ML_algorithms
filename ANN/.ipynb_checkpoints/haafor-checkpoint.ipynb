{
 "cells": [
  {
   "cell_type": "markdown",
   "metadata": {},
   "source": [
    "### Haafor Research Korea test\n",
    "Applicants : Eunsang Park"
   ]
  },
  {
   "cell_type": "markdown",
   "metadata": {},
   "source": [
    "### P2\n",
    "Sales and Earning Growth can calculated by these formula : f(t)/f(t-1) - 1<br>\n",
    "But in real data, there are many **dirty** cases. These data can be inaccurate, incomplete, and have missing values. So it is important to deal with these cases.<br>\n",
    "First, the simplest way to check a validation of data is checking sign of Earnings(t) value. If Earnings(t)<0, it is dirty data and must be replaced other value or skiped.<br>\n",
    "Second, check normality of values. If Earnings(t) or Sales(t) is too large or small compared to specific group or recent values, it may be dirty data.<br>\n",
    "In dirty data, the values can be converted other values such as mean of company's group or recent values."
   ]
  },
  {
   "cell_type": "markdown",
   "metadata": {},
   "source": [
    "### P3\n",
    "A1. <br>\n",
    "**Gradient in Local minimum** is zero. So if two local minimum points from specific function have different y value, a line connected two points is not the function's tangent.<br>\n",
    "\n",
    "A2. <br>\n",
    "First, get t values of local minimums and global minimum.<br>\n",
    "Second, set t1 : global minimum point, t2 : randomly select one point from local minimums(not global minimum)<br>\n",
    "Third, find tangent passed by (t1,f(t1)), (t2,f(t2)) using gradient descent method.<br>\n",
    "fourth, check the line is **supporting line**. If not, change t2 and repeat these step. "
   ]
  },
  {
   "cell_type": "markdown",
   "metadata": {},
   "source": [
    "### M5"
   ]
  },
  {
   "cell_type": "code",
   "execution_count": 54,
   "metadata": {},
   "outputs": [],
   "source": [
    "import itertools"
   ]
  },
  {
   "cell_type": "code",
   "execution_count": 13,
   "metadata": {},
   "outputs": [],
   "source": [
    "def specialCase(cards):\n",
    "    cards = sorted(cards)\n",
    "    if(cards[0]==cards[1]):\n",
    "        return 1\n",
    "    elif((abs(cards[0] - cards[1])==1) | ((cards[0] == 1) & (cards[1]==10))):\n",
    "        return 2\n",
    "    else:\n",
    "        return 0"
   ]
  },
  {
   "cell_type": "code",
   "execution_count": 24,
   "metadata": {},
   "outputs": [],
   "source": [
    "def whoWin(a,b):\n",
    "    def winLose(x,y):\n",
    "        if(x>y):\n",
    "            return 1\n",
    "        elif(x<y):\n",
    "            return -1\n",
    "        else:\n",
    "            return 0\n",
    "        \n",
    "    aCase = specialCase(a)\n",
    "    bCase = specialCase(b)\n",
    "    result = winLose(aCase,bCase)\n",
    "    if(result !=0):\n",
    "        return result\n",
    "    else:\n",
    "        aCase = max(a)\n",
    "        bCase = max(b)\n",
    "        return winLose(aCase,bCase)"
   ]
  },
  {
   "cell_type": "markdown",
   "metadata": {},
   "source": [
    "### A"
   ]
  },
  {
   "cell_type": "code",
   "execution_count": 98,
   "metadata": {},
   "outputs": [],
   "source": [
    "cards = list(range(1,11))*2\n",
    "cards.remove(9) # I have gold 9\n",
    "\n",
    "allCases = 0\n",
    "win = 0\n",
    "for i in itertools.product(cards, repeat=3):\n",
    "    a = [9,i[0]]\n",
    "    b = i[1:]\n",
    "    if(whoWin(a,b) ==1):\n",
    "        win += 1\n",
    "    allCases +=1"
   ]
  },
  {
   "cell_type": "code",
   "execution_count": 99,
   "metadata": {},
   "outputs": [
    {
     "name": "stdout",
     "output_type": "stream",
     "text": [
      "odd of winning :  0.5866744423385333\n"
     ]
    }
   ],
   "source": [
    "print('odd of winning : ', win/allCases)"
   ]
  },
  {
   "cell_type": "markdown",
   "metadata": {},
   "source": [
    "### B"
   ]
  },
  {
   "cell_type": "code",
   "execution_count": 100,
   "metadata": {},
   "outputs": [],
   "source": [
    "def selectBestCase(cards):\n",
    "    decks = []\n",
    "    for i in itertools.combinations(cards,2):\n",
    "        decks.append(i)\n",
    "    \n",
    "    if(whoWin(decks[0], decks[1])>0):\n",
    "        if(whoWin(decks[0], decks[2])>0):\n",
    "            return decks[0]\n",
    "        else:\n",
    "            return decks[2]\n",
    "    else:\n",
    "        if(whoWin(decks[1],decks[2])>0):\n",
    "            return decks[1]\n",
    "        else:\n",
    "            return decks[2]\n",
    "    \n",
    "            "
   ]
  },
  {
   "cell_type": "code",
   "execution_count": 107,
   "metadata": {},
   "outputs": [],
   "source": [
    "cards = list(range(1,11))*2"
   ]
  },
  {
   "cell_type": "code",
   "execution_count": 108,
   "metadata": {},
   "outputs": [],
   "source": [
    "allCases = 0\n",
    "win = 0\n",
    "for i in itertools.product(cards, repeat=5):\n",
    "    a = i[:3]\n",
    "    a = selectBestCase(a)\n",
    "    b = i[3:]\n",
    "    if(whoWin(a,b)==1):\n",
    "        win+=1\n",
    "    allCases +=1\n",
    "    "
   ]
  },
  {
   "cell_type": "code",
   "execution_count": 109,
   "metadata": {},
   "outputs": [
    {
     "name": "stdout",
     "output_type": "stream",
     "text": [
      "odd of winning :  0.70702\n"
     ]
    }
   ],
   "source": [
    "print('odd of winning : ', win/allCases)"
   ]
  },
  {
   "cell_type": "markdown",
   "metadata": {},
   "source": [
    "### C1"
   ]
  },
  {
   "cell_type": "code",
   "execution_count": 129,
   "metadata": {},
   "outputs": [],
   "source": [
    "def sfvl(string):\n",
    "    vowels = ['a','e','i','o','u']\n",
    "    vowelsIdx = [0,0,0,0,0]\n",
    "\n",
    "    for s in string:\n",
    "        if(s in vowels):\n",
    "            vowelsIdx[vowels.index(s)] +=1\n",
    "\n",
    "    secondMax = sorted(vowelsIdx)[-2]\n",
    "    return vowels[vowelsIdx.index(secondMax)]"
   ]
  },
  {
   "cell_type": "code",
   "execution_count": 130,
   "metadata": {},
   "outputs": [
    {
     "name": "stdout",
     "output_type": "stream",
     "text": [
      "second most frequent vowel letter :  a\n"
     ]
    }
   ],
   "source": [
    "print('second most frequent vowel letter : ', sfvl('abcdeeeooauiea'))"
   ]
  },
  {
   "cell_type": "markdown",
   "metadata": {},
   "source": [
    "### C2"
   ]
  },
  {
   "cell_type": "code",
   "execution_count": 228,
   "metadata": {},
   "outputs": [],
   "source": [
    "def swap(arr, i, j):\n",
    "    n=len(arr)\n",
    "    if((j<=n-1)&(i<=n-1)):\n",
    "        temp = arr[i]\n",
    "        arr[i] = arr[j]\n",
    "        arr[j] = temp"
   ]
  },
  {
   "cell_type": "code",
   "execution_count": 229,
   "metadata": {},
   "outputs": [],
   "source": [
    "def evenOdd(arr):\n",
    "    '''\n",
    "    split even odd(leftside : even numbers, right side : odd numbers)\n",
    "    '''\n",
    "    i = 0\n",
    "    odd = 0\n",
    "    n = len(arr)\n",
    "    while(i<=n-1):\n",
    "        if(arr[i]%2 == 1):\n",
    "            if(odd==0):\n",
    "                odd = i\n",
    "            while(arr[i] %2 == 1):\n",
    "                i+=1\n",
    "                if(i>=n-1):\n",
    "                    break\n",
    "\n",
    "            swap(arr, i,odd)\n",
    "            odd +=1\n",
    "        else:\n",
    "            i+=1"
   ]
  },
  {
   "cell_type": "code",
   "execution_count": 230,
   "metadata": {},
   "outputs": [],
   "source": [
    "def evenToOddIdx(arr):\n",
    "    '''\n",
    "    return index of last even number\n",
    "    '''\n",
    "    i=0\n",
    "    while(True):\n",
    "        if(arr[i] % 2 == 1):\n",
    "            break\n",
    "        i+=1\n",
    "    return i"
   ]
  },
  {
   "cell_type": "code",
   "execution_count": 231,
   "metadata": {},
   "outputs": [],
   "source": [
    "def heapify(arr, start, index, heapSize):\n",
    "    '''\n",
    "    make heap\n",
    "    '''\n",
    "    small = index\n",
    "    left = start + 2*(index-start) + 1\n",
    "    right = start + 2*(index-start) + 2\n",
    "    if(left < heapSize+start and arr[left] < arr[small]):\n",
    "        small = left\n",
    "    if(right < heapSize+start and arr[right] < arr[small]):\n",
    "        small = right\n",
    "    if(small != index):\n",
    "        swap(arr, small, index)\n",
    "        heapify(arr, start, small, heapSize)"
   ]
  },
  {
   "cell_type": "code",
   "execution_count": 232,
   "metadata": {},
   "outputs": [],
   "source": [
    "def heapSort(arr, start, end):\n",
    "    '''\n",
    "    heap sort\n",
    "    '''\n",
    "    n = len(arr[start:end])\n",
    "    #make min heap\n",
    "    for i in range(n // 2 - 1, -1, -1):\n",
    "        heapify(arr, start, start+i, n)\n",
    "        \n",
    "    for i in range(n - 1, 0, -1):\n",
    "        swap(arr, start, start+i)\n",
    "        heapify(arr, start, start, i)"
   ]
  },
  {
   "cell_type": "code",
   "execution_count": 254,
   "metadata": {},
   "outputs": [],
   "source": [
    "arr = [4, 3, 1, 2, 6, 7, 10]\n",
    "\n",
    "\n",
    "evenOdd(arr) #result is [4, 2, 6, 10, 1, 7, 3]\n",
    "idx = evenToOddIdx(arr) # result is 4\n",
    "heapSort(arr,0,idx) # result is [10, 6, 4, 2, 1, 7, 3]\n",
    "heapSort(arr,idx,len(arr)) #result is [10, 6, 4, 2, 7, 3, 1]"
   ]
  },
  {
   "cell_type": "code",
   "execution_count": 255,
   "metadata": {},
   "outputs": [
    {
     "name": "stdout",
     "output_type": "stream",
     "text": [
      "[10, 6, 4, 2, 7, 3, 1]\n"
     ]
    }
   ],
   "source": [
    "print(arr)"
   ]
  }
 ],
 "metadata": {
  "kernelspec": {
   "display_name": "py37",
   "language": "python",
   "name": "py37"
  },
  "language_info": {
   "codemirror_mode": {
    "name": "ipython",
    "version": 3
   },
   "file_extension": ".py",
   "mimetype": "text/x-python",
   "name": "python",
   "nbconvert_exporter": "python",
   "pygments_lexer": "ipython3",
   "version": "3.7.6"
  }
 },
 "nbformat": 4,
 "nbformat_minor": 2
}
