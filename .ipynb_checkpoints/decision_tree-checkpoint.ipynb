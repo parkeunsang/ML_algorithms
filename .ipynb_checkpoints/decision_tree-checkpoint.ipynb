{
 "cells": [
  {
   "cell_type": "markdown",
   "metadata": {},
   "source": [
    "#### decision tree\n",
    "https://ratsgo.github.io/machine%20learning/2017/03/26/tree/"
   ]
  },
  {
   "cell_type": "markdown",
   "metadata": {},
   "source": [
    "#### 용어\n",
    "full tree :  모든 terminal node(끝 노드)의 순도가 100%인 상태"
   ]
  },
  {
   "cell_type": "markdown",
   "metadata": {},
   "source": [
    "#### Entropy\n",
    "$Entropy(A) = -\\sum^{m}_{k=1} p_k log_2(p_k)$ : 빨간색공 10개, 파란색공 6개일때  $p_1=\\frac{10}{16}, p2=\\frac{6}{16}$<br>\n",
    "(7,1),(3,5)로 분류했다면 $Entropy(A) = \\sum^{d}_{i=1}R_i(-\\sum^{m}_{k=1}p_k log_2(p_k) (단 R_i = 1/n)$<br>\n",
    "ex)  주택 분류 1,23"
   ]
  },
  {
   "cell_type": "markdown",
   "metadata": {},
   "source": [
    "#### Gini Index\n",
    "$G.I(A) = \\sum^{d}_{i=1}(R_i(1-\\sum^{m}_{k=1}p^2_{ik}))$"
   ]
  },
  {
   "cell_type": "markdown",
   "metadata": {},
   "source": [
    "#### 모델 학습\n",
    "1. 재귀적 분기(recursive partitioning)<br>\n",
    "개체 : n개, 변수 : d 개이면 1회 분기 시 d(n-1) 회 시행\n",
    "2. 가지치기(pruning)\n",
    "full tree 는 과적합 상태이기 때문에 어느정도 결합필요"
   ]
  },
  {
   "cell_type": "markdown",
   "metadata": {},
   "source": [
    "#### cost function\n",
    "decision tree 는 cost function 을 최소로 하는 분기를 찾아내도록 학습\n",
    "$CC(T) = Err(T) + \\alpha \\times L(T)$<br>\n",
    "$CC(T)$ : decision tree 의 비용 복잡도(오류가 적으면서 terminal node 수가 적은 단순한 모델일수록 작은 값)<br>\n",
    "$Err(T)$ : 검증데이터에 대한 오분류율<br>\n",
    "$L(T)$ : terminal node 의 수<br>\n",
    "$\\alpha$ : 보통 0.01~0.1\n"
   ]
  },
  {
   "cell_type": "code",
   "execution_count": 1,
   "metadata": {},
   "outputs": [],
   "source": [
    "import pandas as pd\n",
    "import numpy as np"
   ]
  },
  {
   "cell_type": "code",
   "execution_count": 2,
   "metadata": {},
   "outputs": [],
   "source": [
    "### sklearn algorithm example\n",
    "#https://www.kaggle.com/perry15/decisiontree-example/data"
   ]
  },
  {
   "cell_type": "code",
   "execution_count": 3,
   "metadata": {},
   "outputs": [
    {
     "data": {
      "text/html": [
       "<div>\n",
       "<style scoped>\n",
       "    .dataframe tbody tr th:only-of-type {\n",
       "        vertical-align: middle;\n",
       "    }\n",
       "\n",
       "    .dataframe tbody tr th {\n",
       "        vertical-align: top;\n",
       "    }\n",
       "\n",
       "    .dataframe thead th {\n",
       "        text-align: right;\n",
       "    }\n",
       "</style>\n",
       "<table border=\"1\" class=\"dataframe\">\n",
       "  <thead>\n",
       "    <tr style=\"text-align: right;\">\n",
       "      <th></th>\n",
       "      <th>Pregnancies</th>\n",
       "      <th>Glucose</th>\n",
       "      <th>BloodPressure</th>\n",
       "      <th>SkinThickness</th>\n",
       "      <th>Insulin</th>\n",
       "      <th>BMI</th>\n",
       "      <th>DiabetesPedigreeFunction</th>\n",
       "      <th>Age</th>\n",
       "      <th>Outcome</th>\n",
       "    </tr>\n",
       "  </thead>\n",
       "  <tbody>\n",
       "    <tr>\n",
       "      <td>0</td>\n",
       "      <td>6</td>\n",
       "      <td>148</td>\n",
       "      <td>72</td>\n",
       "      <td>35</td>\n",
       "      <td>0</td>\n",
       "      <td>33.6</td>\n",
       "      <td>0.627</td>\n",
       "      <td>50</td>\n",
       "      <td>1</td>\n",
       "    </tr>\n",
       "    <tr>\n",
       "      <td>1</td>\n",
       "      <td>1</td>\n",
       "      <td>85</td>\n",
       "      <td>66</td>\n",
       "      <td>29</td>\n",
       "      <td>0</td>\n",
       "      <td>26.6</td>\n",
       "      <td>0.351</td>\n",
       "      <td>31</td>\n",
       "      <td>0</td>\n",
       "    </tr>\n",
       "    <tr>\n",
       "      <td>2</td>\n",
       "      <td>8</td>\n",
       "      <td>183</td>\n",
       "      <td>64</td>\n",
       "      <td>0</td>\n",
       "      <td>0</td>\n",
       "      <td>23.3</td>\n",
       "      <td>0.672</td>\n",
       "      <td>32</td>\n",
       "      <td>1</td>\n",
       "    </tr>\n",
       "    <tr>\n",
       "      <td>3</td>\n",
       "      <td>1</td>\n",
       "      <td>89</td>\n",
       "      <td>66</td>\n",
       "      <td>23</td>\n",
       "      <td>94</td>\n",
       "      <td>28.1</td>\n",
       "      <td>0.167</td>\n",
       "      <td>21</td>\n",
       "      <td>0</td>\n",
       "    </tr>\n",
       "    <tr>\n",
       "      <td>4</td>\n",
       "      <td>0</td>\n",
       "      <td>137</td>\n",
       "      <td>40</td>\n",
       "      <td>35</td>\n",
       "      <td>168</td>\n",
       "      <td>43.1</td>\n",
       "      <td>2.288</td>\n",
       "      <td>33</td>\n",
       "      <td>1</td>\n",
       "    </tr>\n",
       "  </tbody>\n",
       "</table>\n",
       "</div>"
      ],
      "text/plain": [
       "   Pregnancies  Glucose  BloodPressure  SkinThickness  Insulin   BMI  \\\n",
       "0            6      148             72             35        0  33.6   \n",
       "1            1       85             66             29        0  26.6   \n",
       "2            8      183             64              0        0  23.3   \n",
       "3            1       89             66             23       94  28.1   \n",
       "4            0      137             40             35      168  43.1   \n",
       "\n",
       "   DiabetesPedigreeFunction  Age  Outcome  \n",
       "0                     0.627   50        1  \n",
       "1                     0.351   31        0  \n",
       "2                     0.672   32        1  \n",
       "3                     0.167   21        0  \n",
       "4                     2.288   33        1  "
      ]
     },
     "execution_count": 3,
     "metadata": {},
     "output_type": "execute_result"
    }
   ],
   "source": [
    "import pandas as pd\n",
    "from sklearn.tree import DecisionTreeClassifier\n",
    "from sklearn import metrics\n",
    "\n"
   ]
  },
  {
   "cell_type": "markdown",
   "metadata": {},
   "source": [
    "#### 과정\n",
    "1. 엔트로피함수\n",
    "2. column 따라 Y값 분할 - input(column name), return(분할된 data frame)\n",
    "3. 재귀적으로 반복, entropy 0까지, column과 value는 list에 쌓음, 이때 trueFalse아니면?"
   ]
  },
  {
   "cell_type": "code",
   "execution_count": 12,
   "metadata": {},
   "outputs": [],
   "source": [
    "inputs = [\n",
    "    ({'level': 'Senior', 'lang': 'Java', 'tweets': 'no', 'phd': 'no'}, False),\n",
    "    ({'level': 'Senior', 'lang': 'Java', 'tweets': 'no', 'phd': 'yes'}, False),\n",
    "    ({'level': 'Mid', 'lang': 'Python', 'tweets': 'no', 'phd': 'no'}, True),\n",
    "    ({'level': 'Junior', 'lang': 'Python', 'tweets': 'no', 'phd': 'no'}, True),\n",
    "    ({'level': 'Junior', 'lang': 'R', 'tweets': 'yes', 'phd': 'no'}, True),\n",
    "    ({'level': 'Junior', 'lang': 'R', 'tweets': 'yes', 'phd': 'yes'}, False),\n",
    "    ({'level': 'Mid', 'lang': 'R', 'tweets': 'yes', 'phd': 'yes'}, True),\n",
    "    ({'level': 'Senior', 'lang': 'Python', 'tweets': 'no', 'phd': 'no'}, False),\n",
    "    ({'level': 'Senior', 'lang': 'R', 'tweets': 'yes', 'phd': 'no'}, True),\n",
    "    ({'level': 'Junior', 'lang': 'Python', 'tweets': 'yes', 'phd': 'no'}, True),\n",
    "    ({'level': 'Senior', 'lang': 'Python', 'tweets': 'yes', 'phd': 'yes'}, True),\n",
    "    ({'level': 'Mid', 'lang': 'Python', 'tweets': 'no', 'phd': 'yes'}, True),\n",
    "    ({'level': 'Mid', 'lang': 'Java', 'tweets': 'yes', 'phd': 'no'}, True),\n",
    "    ({'level': 'Junior', 'lang': 'Python', 'tweets': 'no', 'phd': 'yes'}, False)\n",
    "]\n",
    "\n",
    "X = pd.DataFrame([x[0] for x in inputs])\n",
    "\n",
    "Y = pd.DataFrame(x[1] for x in inputs)\n",
    "\n",
    "Y.columns = ['value']"
   ]
  },
  {
   "cell_type": "code",
   "execution_count": 13,
   "metadata": {},
   "outputs": [],
   "source": [
    "df = pd.concat([X,Y],axis=1)\n",
    "\n",
    "arr = Y.value.values"
   ]
  },
  {
   "cell_type": "code",
   "execution_count": 14,
   "metadata": {},
   "outputs": [],
   "source": [
    "def entropy(arr):\n",
    "    if(len(arr)==0):\n",
    "        return(0)\n",
    "    \n",
    "    p1 = sum(arr)/len(arr)\n",
    "    p2 = (len(arr)-sum(arr))/len(arr)\n",
    "    if((p1==0)|(p2==0)):\n",
    "        return(0)\n",
    "    \n",
    "    result = -(p1*np.log2(p1) + p2*np.log2(p2))\n",
    "    \n",
    "    return(result)"
   ]
  },
  {
   "cell_type": "code",
   "execution_count": 15,
   "metadata": {},
   "outputs": [],
   "source": [
    "def entropy_multi(arrs):\n",
    "    entropy_value = 0\n",
    "    n = sum([len(x) for x in arrs])\n",
    "    for x in arrs:\n",
    "        entropy_value += len(x)*entropy(x)/n\n",
    "    return(entropy_value)"
   ]
  },
  {
   "cell_type": "code",
   "execution_count": 16,
   "metadata": {},
   "outputs": [],
   "source": [
    "#tree\n",
    "class Node:\n",
    "    def __init__(self, df):\n",
    "        self.df = df\n",
    "        self.col = None\n",
    "        self.row = None\n",
    "        self.entropy = None\n",
    "        self.left = None\n",
    "        self.right = None"
   ]
  },
  {
   "cell_type": "code",
   "execution_count": 322,
   "metadata": {},
   "outputs": [],
   "source": [
    "def splitDf(df):\n",
    "    minimum=1\n",
    "    colnames = df.columns\n",
    "    \n",
    "    colRow = [colnames[0],df[colnames[0]].unique()[0]] #default value\n",
    "    for col in colnames[:-1]:\n",
    "\n",
    "        for row in df[col].unique():\n",
    "            ys = []\n",
    "            ys = ys+[df[df[col]==row]['value'].values,df[df[col]!=row]['value'].values]\n",
    "            if(entropy_multi(ys)<minimum):\n",
    "                minimum = entropy_multi(ys)\n",
    "                colRow = [col,row]\n",
    "                \n",
    "    return(colRow,minimum)"
   ]
  },
  {
   "cell_type": "code",
   "execution_count": 18,
   "metadata": {},
   "outputs": [],
   "source": [
    "#input : node, df, ! arr(entropy), \n",
    "#output : entropy, cr, arr "
   ]
  },
  {
   "cell_type": "code",
   "execution_count": 320,
   "metadata": {},
   "outputs": [
    {
     "data": {
      "text/plain": [
       "(['Sex', 'male'], 0.7476803817107462)"
      ]
     },
     "execution_count": 320,
     "metadata": {},
     "output_type": "execute_result"
    }
   ],
   "source": [
    "splitDf(train)"
   ]
  },
  {
   "cell_type": "code",
   "execution_count": 19,
   "metadata": {},
   "outputs": [],
   "source": [
    "def getNodes(node, df,entropyBefore = -1):\n",
    "    if(entropy(df['value'])==0):\n",
    "        node.entropy = 0\n",
    "        return 0\n",
    "    if(entropy(df['value'])==entropyBefore):\n",
    "        return 0\n",
    "    \n",
    "    cr = splitDf(df)[0]\n",
    "    node.entropy = entropy(df['value'])\n",
    "    \n",
    "    dfLeft = df[df[cr[0]]==cr[1]]\n",
    "    dfRight = df[df[cr[0]] != cr[1]]\n",
    "    \n",
    "    node.col = cr[0]\n",
    "    node.row = cr[1]\n",
    "    \n",
    "    node.left = Node(dfLeft)\n",
    "    node.right = Node(dfRight)\n",
    "    \n",
    "    getNodes(node.left, dfLeft,node.entropy)\n",
    "    getNodes(node.right, dfRight, node.entropy)"
   ]
  },
  {
   "cell_type": "code",
   "execution_count": 20,
   "metadata": {},
   "outputs": [],
   "source": [
    "root=Node(df)\n",
    "\n",
    "getNodes(root,df)"
   ]
  },
  {
   "cell_type": "code",
   "execution_count": 22,
   "metadata": {},
   "outputs": [],
   "source": [
    "def treePrint(node,treeList,right):\n",
    "    \n",
    "    \n",
    "    treeList_ = treeList.copy()\n",
    "    \n",
    "    if(right =='start'):\n",
    "        0\n",
    "    elif(right):\n",
    "        treeList_.append(\"right\")\n",
    "    else:\n",
    "        treeList_.append(\"left\")\n",
    "    \n",
    "    \n",
    "    if((node.left ==None)&(node.right ==None)):\n",
    "        print(treeList_)\n",
    "        return 0\n",
    "    treeList_.append((node.col,node.row))\n",
    "\n",
    "    \n",
    "        \n",
    "   \n",
    "    treePrint(node.left, treeList_,0)\n",
    "    treePrint(node.right,treeList_,1)"
   ]
  },
  {
   "cell_type": "code",
   "execution_count": 23,
   "metadata": {},
   "outputs": [
    {
     "name": "stdout",
     "output_type": "stream",
     "text": [
      "[('level', 'Mid'), 'left']\n",
      "[('level', 'Mid'), 'right', ('tweets', 'no'), 'left', ('level', 'Senior'), 'left']\n",
      "[('level', 'Mid'), 'right', ('tweets', 'no'), 'left', ('level', 'Senior'), 'right', ('phd', 'no'), 'left']\n",
      "[('level', 'Mid'), 'right', ('tweets', 'no'), 'left', ('level', 'Senior'), 'right', ('phd', 'no'), 'right']\n",
      "[('level', 'Mid'), 'right', ('tweets', 'no'), 'right', ('phd', 'no'), 'left']\n",
      "[('level', 'Mid'), 'right', ('tweets', 'no'), 'right', ('phd', 'no'), 'right', ('level', 'Junior'), 'left']\n",
      "[('level', 'Mid'), 'right', ('tweets', 'no'), 'right', ('phd', 'no'), 'right', ('level', 'Junior'), 'right']\n"
     ]
    }
   ],
   "source": [
    "treePrint(root,[],'start')"
   ]
  },
  {
   "cell_type": "code",
   "execution_count": 277,
   "metadata": {},
   "outputs": [],
   "source": [
    "def dfPred(node, sr):\n",
    "\n",
    "    if((node.left==None)&(node.right==None)):\n",
    "        if(len(node.df['value']) != 0):\n",
    "            result[0] = int(round(node.df['value'].sum()/len(node.df['value']),0))\n",
    "            return 0\n",
    "        else:\n",
    "            result[0] =  np.random.randint(2) #0,1 is 50%, 50%\n",
    "            return 0\n",
    "\n",
    "    if(sr[node.col] == node.row):\n",
    "        dfPred(node.left, sr)\n",
    "    else:\n",
    "        dfPred(node.right, sr)"
   ]
  },
  {
   "cell_type": "code",
   "execution_count": 25,
   "metadata": {},
   "outputs": [],
   "source": [
    "labels = []\n",
    "\n",
    "for i in range(len(df)):\n",
    "    result=[True]\n",
    "    dfPred(root, df.loc[i])\n",
    "    labels = labels+result"
   ]
  },
  {
   "cell_type": "markdown",
   "metadata": {},
   "source": [
    "### real"
   ]
  },
  {
   "cell_type": "code",
   "execution_count": null,
   "metadata": {},
   "outputs": [],
   "source": [
    "import time"
   ]
  },
  {
   "cell_type": "code",
   "execution_count": 195,
   "metadata": {},
   "outputs": [
    {
     "data": {
      "text/html": [
       "<div>\n",
       "<style scoped>\n",
       "    .dataframe tbody tr th:only-of-type {\n",
       "        vertical-align: middle;\n",
       "    }\n",
       "\n",
       "    .dataframe tbody tr th {\n",
       "        vertical-align: top;\n",
       "    }\n",
       "\n",
       "    .dataframe thead th {\n",
       "        text-align: right;\n",
       "    }\n",
       "</style>\n",
       "<table border=\"1\" class=\"dataframe\">\n",
       "  <thead>\n",
       "    <tr style=\"text-align: right;\">\n",
       "      <th></th>\n",
       "      <th>PassengerId</th>\n",
       "      <th>Survived</th>\n",
       "      <th>Pclass</th>\n",
       "      <th>Name</th>\n",
       "      <th>Sex</th>\n",
       "      <th>Age</th>\n",
       "      <th>SibSp</th>\n",
       "      <th>Parch</th>\n",
       "      <th>Ticket</th>\n",
       "      <th>Fare</th>\n",
       "      <th>Cabin</th>\n",
       "      <th>Embarked</th>\n",
       "    </tr>\n",
       "  </thead>\n",
       "  <tbody>\n",
       "    <tr>\n",
       "      <td>0</td>\n",
       "      <td>1</td>\n",
       "      <td>0</td>\n",
       "      <td>3</td>\n",
       "      <td>Braund, Mr. Owen Harris</td>\n",
       "      <td>male</td>\n",
       "      <td>22.0</td>\n",
       "      <td>1</td>\n",
       "      <td>0</td>\n",
       "      <td>A/5 21171</td>\n",
       "      <td>7.2500</td>\n",
       "      <td>NaN</td>\n",
       "      <td>S</td>\n",
       "    </tr>\n",
       "    <tr>\n",
       "      <td>1</td>\n",
       "      <td>2</td>\n",
       "      <td>1</td>\n",
       "      <td>1</td>\n",
       "      <td>Cumings, Mrs. John Bradley (Florence Briggs Th...</td>\n",
       "      <td>female</td>\n",
       "      <td>38.0</td>\n",
       "      <td>1</td>\n",
       "      <td>0</td>\n",
       "      <td>PC 17599</td>\n",
       "      <td>71.2833</td>\n",
       "      <td>C85</td>\n",
       "      <td>C</td>\n",
       "    </tr>\n",
       "    <tr>\n",
       "      <td>2</td>\n",
       "      <td>3</td>\n",
       "      <td>1</td>\n",
       "      <td>3</td>\n",
       "      <td>Heikkinen, Miss. Laina</td>\n",
       "      <td>female</td>\n",
       "      <td>26.0</td>\n",
       "      <td>0</td>\n",
       "      <td>0</td>\n",
       "      <td>STON/O2. 3101282</td>\n",
       "      <td>7.9250</td>\n",
       "      <td>NaN</td>\n",
       "      <td>S</td>\n",
       "    </tr>\n",
       "    <tr>\n",
       "      <td>3</td>\n",
       "      <td>4</td>\n",
       "      <td>1</td>\n",
       "      <td>1</td>\n",
       "      <td>Futrelle, Mrs. Jacques Heath (Lily May Peel)</td>\n",
       "      <td>female</td>\n",
       "      <td>35.0</td>\n",
       "      <td>1</td>\n",
       "      <td>0</td>\n",
       "      <td>113803</td>\n",
       "      <td>53.1000</td>\n",
       "      <td>C123</td>\n",
       "      <td>S</td>\n",
       "    </tr>\n",
       "    <tr>\n",
       "      <td>4</td>\n",
       "      <td>5</td>\n",
       "      <td>0</td>\n",
       "      <td>3</td>\n",
       "      <td>Allen, Mr. William Henry</td>\n",
       "      <td>male</td>\n",
       "      <td>35.0</td>\n",
       "      <td>0</td>\n",
       "      <td>0</td>\n",
       "      <td>373450</td>\n",
       "      <td>8.0500</td>\n",
       "      <td>NaN</td>\n",
       "      <td>S</td>\n",
       "    </tr>\n",
       "  </tbody>\n",
       "</table>\n",
       "</div>"
      ],
      "text/plain": [
       "   PassengerId  Survived  Pclass  \\\n",
       "0            1         0       3   \n",
       "1            2         1       1   \n",
       "2            3         1       3   \n",
       "3            4         1       1   \n",
       "4            5         0       3   \n",
       "\n",
       "                                                Name     Sex   Age  SibSp  \\\n",
       "0                            Braund, Mr. Owen Harris    male  22.0      1   \n",
       "1  Cumings, Mrs. John Bradley (Florence Briggs Th...  female  38.0      1   \n",
       "2                             Heikkinen, Miss. Laina  female  26.0      0   \n",
       "3       Futrelle, Mrs. Jacques Heath (Lily May Peel)  female  35.0      1   \n",
       "4                           Allen, Mr. William Henry    male  35.0      0   \n",
       "\n",
       "   Parch            Ticket     Fare Cabin Embarked  \n",
       "0      0         A/5 21171   7.2500   NaN        S  \n",
       "1      0          PC 17599  71.2833   C85        C  \n",
       "2      0  STON/O2. 3101282   7.9250   NaN        S  \n",
       "3      0            113803  53.1000  C123        S  \n",
       "4      0            373450   8.0500   NaN        S  "
      ]
     },
     "execution_count": 195,
     "metadata": {},
     "output_type": "execute_result"
    }
   ],
   "source": [
    "dataset = pd.read_csv(\"titanic.csv\")\n",
    "dataset.head()\n",
    "#dataset=dataset.rename(columns = {\"Outcome\":\"value\"})"
   ]
  },
  {
   "cell_type": "code",
   "execution_count": 197,
   "metadata": {},
   "outputs": [],
   "source": [
    "dataset=dataset[['Pclass','Sex','SibSp','Parch','Embarked','Survived']]"
   ]
  },
  {
   "cell_type": "code",
   "execution_count": 200,
   "metadata": {},
   "outputs": [],
   "source": [
    "dataset=dataset.rename(columns = {\"Survived\":\"value\"})"
   ]
  },
  {
   "cell_type": "code",
   "execution_count": 201,
   "metadata": {},
   "outputs": [],
   "source": [
    "np.random.seed(2020)"
   ]
  },
  {
   "cell_type": "code",
   "execution_count": 202,
   "metadata": {},
   "outputs": [],
   "source": [
    "dataset = dataset.sample(frac=1).reset_index(drop=True)"
   ]
  },
  {
   "cell_type": "code",
   "execution_count": 326,
   "metadata": {},
   "outputs": [],
   "source": [
    "train = dataset[:100]"
   ]
  },
  {
   "cell_type": "code",
   "execution_count": 327,
   "metadata": {},
   "outputs": [],
   "source": [
    "test = dataset[-100:]"
   ]
  },
  {
   "cell_type": "code",
   "execution_count": 328,
   "metadata": {},
   "outputs": [],
   "source": [
    "def accuracy(real,pred):\n",
    "    return(1-sum(abs(real-pred))/len(real))"
   ]
  },
  {
   "cell_type": "code",
   "execution_count": 329,
   "metadata": {},
   "outputs": [
    {
     "name": "stdout",
     "output_type": "stream",
     "text": [
      "0.3972358703613281\n"
     ]
    }
   ],
   "source": [
    "start = time.time()\n",
    "root=Node(train)\n",
    "\n",
    "getNodes(root,train)\n",
    "print(time.time() - start)"
   ]
  },
  {
   "cell_type": "code",
   "execution_count": 251,
   "metadata": {},
   "outputs": [
    {
     "name": "stdout",
     "output_type": "stream",
     "text": [
      "[('Sex', 'female'), 'left', ('Pclass', 1), 'left']\n",
      "[('Sex', 'female'), 'left', ('Pclass', 1), 'right', ('Pclass', 2), 'left']\n",
      "[('Sex', 'female'), 'left', ('Pclass', 1), 'right', ('Pclass', 2), 'right']\n",
      "[('Sex', 'female'), 'right']\n"
     ]
    }
   ],
   "source": [
    "#treePrint(root,[],'start')"
   ]
  },
  {
   "cell_type": "code",
   "execution_count": 332,
   "metadata": {},
   "outputs": [],
   "source": [
    "labels = []\n",
    "\n",
    "for i in range(len(test)):\n",
    "    result=[True]\n",
    "    dfPred(root, test.iloc[i])\n",
    "    labels = labels+result"
   ]
  },
  {
   "cell_type": "code",
   "execution_count": 331,
   "metadata": {},
   "outputs": [
    {
     "data": {
      "text/plain": [
       "0.78"
      ]
     },
     "execution_count": 331,
     "metadata": {},
     "output_type": "execute_result"
    }
   ],
   "source": [
    "accuracy(test['value'],labels)"
   ]
  },
  {
   "cell_type": "code",
   "execution_count": 344,
   "metadata": {},
   "outputs": [],
   "source": [
    "train_ = train.apply(lambda col: pd.factorize(col, sort=True)[0])\n",
    "test_ = test.apply(lambda col: pd.factorize(col, sort=True)[0])"
   ]
  },
  {
   "cell_type": "code",
   "execution_count": 345,
   "metadata": {},
   "outputs": [
    {
     "name": "stdout",
     "output_type": "stream",
     "text": [
      "0.004615068435668945\n"
     ]
    }
   ],
   "source": [
    "start = time.time()\n",
    "dtc = DecisionTreeClassifier(criterion=\"entropy\")\n",
    "dtc = dtc.fit(train_.iloc[:,:-1],train_.iloc[:,-1])\n",
    "\n",
    "pred = dtc.predict(test_.iloc[:,:-1])\n",
    "print(time.time()-start)\n"
   ]
  },
  {
   "cell_type": "code",
   "execution_count": 346,
   "metadata": {},
   "outputs": [
    {
     "data": {
      "text/plain": [
       "0.77"
      ]
     },
     "execution_count": 346,
     "metadata": {},
     "output_type": "execute_result"
    }
   ],
   "source": [
    "accuracy(test['value'],pred)"
   ]
  }
 ],
 "metadata": {
  "kernelspec": {
   "display_name": "Python 3",
   "language": "python",
   "name": "python3"
  },
  "language_info": {
   "codemirror_mode": {
    "name": "ipython",
    "version": 3
   },
   "file_extension": ".py",
   "mimetype": "text/x-python",
   "name": "python",
   "nbconvert_exporter": "python",
   "pygments_lexer": "ipython3",
   "version": "3.7.4"
  }
 },
 "nbformat": 4,
 "nbformat_minor": 4
}
