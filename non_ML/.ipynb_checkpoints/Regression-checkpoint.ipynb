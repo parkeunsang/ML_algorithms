{
 "cells": [
  {
   "cell_type": "markdown",
   "metadata": {},
   "source": [
    "### Linear Regression by OLS\n",
    "Finding $\\beta$ and calculating F-value(about model), t-value(about parameter such as $\\beta_{1}$) by numpy"
   ]
  },
  {
   "cell_type": "code",
   "execution_count": 258,
   "metadata": {},
   "outputs": [],
   "source": [
    "import numpy as np\n",
    "import pandas as pd\n",
    "import time"
   ]
  },
  {
   "cell_type": "code",
   "execution_count": 275,
   "metadata": {},
   "outputs": [],
   "source": [
    "#Create random variable X,y\n",
    "N=10000\n",
    "np.random.seed(2020)\n",
    "X = np.random.normal(10,10,[N,3])\n",
    "X = np.c_[np.ones(N),X] # first column is ones\n",
    "#print(X)\n",
    "e = np.random.normal(0,10,N)\n",
    "y = 5*X[:,0] - 3*X[:,1] + 1*X[:,2] + 0.1*X[:,3]+ e"
   ]
  },
  {
   "cell_type": "markdown",
   "metadata": {},
   "source": [
    "$y = X\\beta + e$, minimizing sum of $e^2$ is equal to minimizing $(y^T-\\beta ^T X^T)(y-X\\beta)$. So $$\\hat\\beta = (XX^T)^{-1}Xy$$ by differential"
   ]
  },
  {
   "cell_type": "code",
   "execution_count": 276,
   "metadata": {},
   "outputs": [
    {
     "name": "stdout",
     "output_type": "stream",
     "text": [
      "0.0024149417877197266\n"
     ]
    }
   ],
   "source": [
    "#OLS algorithm\n",
    "start = time.time()\n",
    "beta = np.linalg.inv(X.T@X) @ X.T @ y # @ means matrix multiplication\n",
    "print(time.time()-start) # take time"
   ]
  },
  {
   "cell_type": "code",
   "execution_count": 277,
   "metadata": {},
   "outputs": [
    {
     "name": "stdout",
     "output_type": "stream",
     "text": [
      "[ 5.07198234 -3.01765558  1.00544021  0.10879204]\n"
     ]
    }
   ],
   "source": [
    "print(beta) #beta 0 to 3"
   ]
  },
  {
   "cell_type": "code",
   "execution_count": 278,
   "metadata": {},
   "outputs": [],
   "source": [
    "#yhat = X[:,0]*beta[0] + X[:,1]*beta[1] + X[:,2]*beta[2] + X[:,3]*beta[3]\n",
    "yhat = X @ beta"
   ]
  },
  {
   "cell_type": "markdown",
   "metadata": {},
   "source": [
    "[What is SST,SSE,SSR?](https://stats.stackexchange.com/questions/207841/why-is-sst-sse-ssr-one-variable-linear-regression)"
   ]
  },
  {
   "cell_type": "code",
   "execution_count": 279,
   "metadata": {},
   "outputs": [],
   "source": [
    "SSR = sum((yhat-np.mean(y))**2)\n",
    "SSE = sum((y-yhat)**2)\n",
    "SST = sum((y-np.mean(y))**2)"
   ]
  },
  {
   "cell_type": "code",
   "execution_count": 280,
   "metadata": {},
   "outputs": [
    {
     "data": {
      "text/plain": [
       "0.9088976139226401"
      ]
     },
     "execution_count": 280,
     "metadata": {},
     "output_type": "execute_result"
    }
   ],
   "source": [
    "#R-square\n",
    "SSR/SST"
   ]
  },
  {
   "cell_type": "markdown",
   "metadata": {},
   "source": [
    "### About F,t-value\n",
    "[Linear_regression_pdf](http://mezeylab.cb.bscb.cornell.edu/labmembers/documents/supplement%205%20-%20multiple%20regression.pdf)"
   ]
  },
  {
   "cell_type": "code",
   "execution_count": 282,
   "metadata": {},
   "outputs": [
    {
     "data": {
      "text/plain": [
       "33242.23414981111"
      ]
     },
     "execution_count": 282,
     "metadata": {},
     "output_type": "execute_result"
    }
   ],
   "source": [
    "#F-value\n",
    "k=3 # the number of parameters is 3\n",
    "(SSR/k)/(SSE/(N-k-1))"
   ]
  },
  {
   "cell_type": "code",
   "execution_count": 283,
   "metadata": {},
   "outputs": [],
   "source": [
    "sigma2 = ((y-yhat).T @ (y-yhat))/N"
   ]
  },
  {
   "cell_type": "code",
   "execution_count": 284,
   "metadata": {},
   "outputs": [
    {
     "name": "stdout",
     "output_type": "stream",
     "text": [
      "25.078447737687416\n",
      "-300.3384898887673\n",
      "99.2527044619302\n",
      "10.784586102534847\n"
     ]
    }
   ],
   "source": [
    "for i in range(4):\n",
    "    print(beta[i]/((sigma2*np.linalg.inv((X.T @ X))[i,i])**(1/2)))"
   ]
  },
  {
   "cell_type": "markdown",
   "metadata": {},
   "source": [
    "### OLS using python library"
   ]
  },
  {
   "cell_type": "code",
   "execution_count": 285,
   "metadata": {},
   "outputs": [],
   "source": [
    "import statsmodels.api as sm"
   ]
  },
  {
   "cell_type": "code",
   "execution_count": 286,
   "metadata": {},
   "outputs": [],
   "source": [
    "lm = sm.OLS(y,X)"
   ]
  },
  {
   "cell_type": "code",
   "execution_count": 287,
   "metadata": {},
   "outputs": [
    {
     "name": "stdout",
     "output_type": "stream",
     "text": [
      "0.00474095344543457\n"
     ]
    }
   ],
   "source": [
    "start = time.time()\n",
    "lm = lm.fit()\n",
    "print(time.time()-start)"
   ]
  },
  {
   "cell_type": "code",
   "execution_count": 288,
   "metadata": {},
   "outputs": [
    {
     "data": {
      "text/html": [
       "<table class=\"simpletable\">\n",
       "<caption>OLS Regression Results</caption>\n",
       "<tr>\n",
       "  <th>Dep. Variable:</th>            <td>y</td>        <th>  R-squared:         </th> <td>   0.909</td> \n",
       "</tr>\n",
       "<tr>\n",
       "  <th>Model:</th>                   <td>OLS</td>       <th>  Adj. R-squared:    </th> <td>   0.909</td> \n",
       "</tr>\n",
       "<tr>\n",
       "  <th>Method:</th>             <td>Least Squares</td>  <th>  F-statistic:       </th> <td>3.324e+04</td>\n",
       "</tr>\n",
       "<tr>\n",
       "  <th>Date:</th>             <td>Mon, 24 Aug 2020</td> <th>  Prob (F-statistic):</th>  <td>  0.00</td>  \n",
       "</tr>\n",
       "<tr>\n",
       "  <th>Time:</th>                 <td>17:49:18</td>     <th>  Log-Likelihood:    </th> <td> -37220.</td> \n",
       "</tr>\n",
       "<tr>\n",
       "  <th>No. Observations:</th>      <td> 10000</td>      <th>  AIC:               </th> <td>7.445e+04</td>\n",
       "</tr>\n",
       "<tr>\n",
       "  <th>Df Residuals:</th>          <td>  9996</td>      <th>  BIC:               </th> <td>7.448e+04</td>\n",
       "</tr>\n",
       "<tr>\n",
       "  <th>Df Model:</th>              <td>     3</td>      <th>                     </th>     <td> </td>    \n",
       "</tr>\n",
       "<tr>\n",
       "  <th>Covariance Type:</th>      <td>nonrobust</td>    <th>                     </th>     <td> </td>    \n",
       "</tr>\n",
       "</table>\n",
       "<table class=\"simpletable\">\n",
       "<tr>\n",
       "    <td></td>       <th>coef</th>     <th>std err</th>      <th>t</th>      <th>P>|t|</th>  <th>[0.025</th>    <th>0.975]</th>  \n",
       "</tr>\n",
       "<tr>\n",
       "  <th>const</th> <td>    5.0720</td> <td>    0.202</td> <td>   25.073</td> <td> 0.000</td> <td>    4.675</td> <td>    5.469</td>\n",
       "</tr>\n",
       "<tr>\n",
       "  <th>x1</th>    <td>   -3.0177</td> <td>    0.010</td> <td> -300.278</td> <td> 0.000</td> <td>   -3.037</td> <td>   -2.998</td>\n",
       "</tr>\n",
       "<tr>\n",
       "  <th>x2</th>    <td>    1.0054</td> <td>    0.010</td> <td>   99.233</td> <td> 0.000</td> <td>    0.986</td> <td>    1.025</td>\n",
       "</tr>\n",
       "<tr>\n",
       "  <th>x3</th>    <td>    0.1088</td> <td>    0.010</td> <td>   10.782</td> <td> 0.000</td> <td>    0.089</td> <td>    0.129</td>\n",
       "</tr>\n",
       "</table>\n",
       "<table class=\"simpletable\">\n",
       "<tr>\n",
       "  <th>Omnibus:</th>       <td> 0.094</td> <th>  Durbin-Watson:     </th> <td>   1.980</td>\n",
       "</tr>\n",
       "<tr>\n",
       "  <th>Prob(Omnibus):</th> <td> 0.954</td> <th>  Jarque-Bera (JB):  </th> <td>   0.106</td>\n",
       "</tr>\n",
       "<tr>\n",
       "  <th>Skew:</th>          <td>-0.006</td> <th>  Prob(JB):          </th> <td>   0.948</td>\n",
       "</tr>\n",
       "<tr>\n",
       "  <th>Kurtosis:</th>      <td> 2.991</td> <th>  Cond. No.          </th> <td>    40.5</td>\n",
       "</tr>\n",
       "</table><br/><br/>Warnings:<br/>[1] Standard Errors assume that the covariance matrix of the errors is correctly specified."
      ],
      "text/plain": [
       "<class 'statsmodels.iolib.summary.Summary'>\n",
       "\"\"\"\n",
       "                            OLS Regression Results                            \n",
       "==============================================================================\n",
       "Dep. Variable:                      y   R-squared:                       0.909\n",
       "Model:                            OLS   Adj. R-squared:                  0.909\n",
       "Method:                 Least Squares   F-statistic:                 3.324e+04\n",
       "Date:                Mon, 24 Aug 2020   Prob (F-statistic):               0.00\n",
       "Time:                        17:49:18   Log-Likelihood:                -37220.\n",
       "No. Observations:               10000   AIC:                         7.445e+04\n",
       "Df Residuals:                    9996   BIC:                         7.448e+04\n",
       "Df Model:                           3                                         \n",
       "Covariance Type:            nonrobust                                         \n",
       "==============================================================================\n",
       "                 coef    std err          t      P>|t|      [0.025      0.975]\n",
       "------------------------------------------------------------------------------\n",
       "const          5.0720      0.202     25.073      0.000       4.675       5.469\n",
       "x1            -3.0177      0.010   -300.278      0.000      -3.037      -2.998\n",
       "x2             1.0054      0.010     99.233      0.000       0.986       1.025\n",
       "x3             0.1088      0.010     10.782      0.000       0.089       0.129\n",
       "==============================================================================\n",
       "Omnibus:                        0.094   Durbin-Watson:                   1.980\n",
       "Prob(Omnibus):                  0.954   Jarque-Bera (JB):                0.106\n",
       "Skew:                          -0.006   Prob(JB):                        0.948\n",
       "Kurtosis:                       2.991   Cond. No.                         40.5\n",
       "==============================================================================\n",
       "\n",
       "Warnings:\n",
       "[1] Standard Errors assume that the covariance matrix of the errors is correctly specified.\n",
       "\"\"\""
      ]
     },
     "execution_count": 288,
     "metadata": {},
     "output_type": "execute_result"
    }
   ],
   "source": [
    "lm.summary()"
   ]
  },
  {
   "cell_type": "markdown",
   "metadata": {},
   "source": [
    "Total spending time of two method is similar. And R-squared, t-value,..etc is almost same.(They are not absolutely same because of calculation error)"
   ]
  }
 ],
 "metadata": {
  "kernelspec": {
   "display_name": "py37",
   "language": "python",
   "name": "py37"
  },
  "language_info": {
   "codemirror_mode": {
    "name": "ipython",
    "version": 3
   },
   "file_extension": ".py",
   "mimetype": "text/x-python",
   "name": "python",
   "nbconvert_exporter": "python",
   "pygments_lexer": "ipython3",
   "version": "3.7.6"
  }
 },
 "nbformat": 4,
 "nbformat_minor": 2
}
