{
 "cells": [
  {
   "cell_type": "markdown",
   "metadata": {},
   "source": [
    "### What is non-linear regression?\n",
    "Regression model : $y = \\mu(x)+\\epsilon$<br>\n",
    "Linear model : $y = \\beta_0 + \\beta_1 x_1 + \\beta_2x_2+...+\\epsilon$<br>\n",
    "Non-linear model : if $\\frac{\\delta \\mu(x)}{\\delta \\beta}$ is function about $\\beta$, then it is non-linear model<br>\n",
    "ex) $\\mu(x)=e^{\\beta_0+\\beta_1x_1},\\ \\frac{\\delta \\mu(x)}{\\delta \\beta}=[e^{\\beta_0+\\beta_1x_1}, \\ x_1e^{\\beta_0+\\beta_1x_1}]$"
   ]
  },
  {
   "cell_type": "markdown",
   "metadata": {},
   "source": [
    "### How to get parameter in non-linear regression?"
   ]
  },
  {
   "cell_type": "markdown",
   "metadata": {},
   "source": [
    "**1. Transformation**<br>\n",
    "$y=e^{\\beta_0+\\beta_1x_1}+\\epsilon$, we can transform that equation to $lny = y' = \\beta_0+\\beta_1x_1+\\epsilon '$ and can solve by OLS<br>\n",
    "\n",
    "**2. Optimization**<br>\n",
    "If you can't use transformation method because of difficult case such as $$y = exp(-\\beta_1x_1exp(-\\beta_2(\\frac{1}{x_2}-\\frac{1}{100}))+\\epsilon$$\n",
    "then we can find $\\beta$ by optimization method such as newton-raphson method, gauss-newton method, ... etc\n"
   ]
  },
  {
   "cell_type": "markdown",
   "metadata": {},
   "source": [
    "### Gauss-newton method\n",
    "https://en.wikipedia.org/wiki/Gauss%E2%80%93Newton_algorithm\n",
    "- Very simple algorithm\n",
    "\n",
    "\n",
    "1. Set initial $\\beta=\\beta^{(0)}$\n",
    "2. Get next $\\beta$ by  $\\beta^{(1)} = \\beta^{(0)} - [(\\frac{\\delta e(\\beta^{(0)})}{\\delta \\beta})^T\n",
    "(\\frac{\\delta e(\\beta^{(0)})}{\\delta \\beta})]^{-1}[(\\frac{\\delta e(\\beta^{(0)})}{\\delta \\beta})^Te(\\beta^{(0)})]$, and $e(\\beta) = y-\\mu(x)$\n",
    "3. Update $\\beta$ and repeat until $\\beta^{(t)} - \\beta^{(t-1)} < s$(very small value)"
   ]
  },
  {
   "cell_type": "markdown",
   "metadata": {},
   "source": [
    "### Start\n",
    "**simple case**<br>\n",
    "$y=exp(\\beta_0+\\beta_1x)+\\epsilon$<br>\n",
    "and answer : $(\\beta_0,\\beta_1) = (5,2)$"
   ]
  },
  {
   "cell_type": "code",
   "execution_count": 1,
   "metadata": {},
   "outputs": [],
   "source": [
    "import numpy as np"
   ]
  },
  {
   "cell_type": "code",
   "execution_count": 2,
   "metadata": {},
   "outputs": [],
   "source": [
    "np.random.seed(2020)\n",
    "x = np.random.randn(100)\n",
    "y = np.exp(5+2*x) + np.random.normal(0,1,100)\n"
   ]
  },
  {
   "cell_type": "code",
   "execution_count": 201,
   "metadata": {},
   "outputs": [],
   "source": [
    "#mu\n",
    "def mu(beta, x):\n",
    "    return np.exp(beta[0]+beta[1]*x)"
   ]
  },
  {
   "cell_type": "code",
   "execution_count": 138,
   "metadata": {},
   "outputs": [],
   "source": [
    "#Differential function\n",
    "#Result is nx2 matrix (because the number of beta is 2)\n",
    "def diff(func, beta, x, h = 0.001):\n",
    "\n",
    "    result = []\n",
    "    for i in range(len(beta)):\n",
    "        betaH = beta.copy()\n",
    "        betaH=betaH.astype('float32')\n",
    "        betaH[i] = beta[i]+h\n",
    "        \n",
    "        #why -1 : e(x) = y - mu(x)\n",
    "        result.append(-1*(func(betaH,x)-func(beta,x))/h)\n",
    "                      \n",
    "    return np.array(result).T"
   ]
  },
  {
   "cell_type": "code",
   "execution_count": 160,
   "metadata": {},
   "outputs": [],
   "source": [
    "#Update and repeat\n",
    "def updateRepeat(func, beta):\n",
    "    try:\n",
    "        for i in range(1000):\n",
    "            bP = diff(mu,beta,x)\n",
    "            e = y-mu(beta,x)\n",
    "\n",
    "            betaNext = beta - np.linalg.inv(bP.T @ bP) @ bP.T @ e\n",
    "            if(sum(abs(betaNext-beta)) < 0.0001):\n",
    "                break\n",
    "            beta = betaNext\n",
    "            print(beta)\n",
    "        return beta\n",
    "    except:\n",
    "        return -1\n",
    "    "
   ]
  },
  {
   "cell_type": "code",
   "execution_count": 165,
   "metadata": {},
   "outputs": [
    {
     "name": "stdout",
     "output_type": "stream",
     "text": [
      "[-1.19168502 14.16088787]\n",
      "[-2.19120214 14.16074116]\n",
      "[-3.19080303 14.16043774]\n",
      "[-4.19039219 14.16028568]\n",
      "[-5.18979172 14.16055212]\n",
      "[-6.18932269 14.16045869]\n",
      "[-7.18867624 14.16033612]\n",
      "[-8.18834586 14.16070586]\n",
      "[-9.18745762 14.1603986 ]\n",
      "[-10.1868716   14.16023927]\n",
      "[-11.1856117   14.16007953]\n",
      "[-12.18395492  14.16019274]\n",
      "[-13.18121403  14.15910149]\n",
      "[-14.17487729  14.15680898]\n",
      "[-15.1592374   14.15047627]\n",
      "[-16.11660376  14.13379185]\n",
      "[-17.00285776  14.08842332]\n",
      "[-17.69873266  13.96747401]\n",
      "[-17.91456353  13.65466837]\n",
      "[-17.04665969  12.90817808]\n",
      "[-14.31613818  11.41884615]\n",
      "[-9.86706059  9.24721329]\n",
      "[-4.97594412  6.90607654]\n",
      "[-0.40834452  4.72151608]\n",
      "[3.06094605 3.03342645]\n",
      "[4.67467254 2.19677418]\n",
      "[4.9808169  2.01279777]\n",
      "[4.99986867 2.00011901]\n",
      "[5.00000591 2.00002252]\n"
     ]
    },
    {
     "data": {
      "text/plain": [
       "array([5.00000591, 2.00002252])"
      ]
     },
     "execution_count": 165,
     "metadata": {},
     "output_type": "execute_result"
    }
   ],
   "source": [
    "#initial beta\n",
    "beta = np.array([4,1])\n",
    "\n",
    "updateRepeat(mu,beta)"
   ]
  },
  {
   "cell_type": "markdown",
   "metadata": {},
   "source": [
    "Find answer!"
   ]
  },
  {
   "cell_type": "code",
   "execution_count": 166,
   "metadata": {},
   "outputs": [
    {
     "name": "stdout",
     "output_type": "stream",
     "text": [
      "[-9.39491566 36.77500233]\n",
      "[-10.1298496  36.7587958]\n",
      "[-11.23886765  36.74969545]\n",
      "[-12.30539654  36.76643791]\n",
      "[-13.25877818  36.7794975 ]\n",
      "[-14.36471556  36.76392119]\n",
      "[-16.01803565  36.87788353]\n",
      "[-16.91260695  36.86149556]\n",
      "[-18.80007354  37.2017385 ]\n",
      "[-20.14788809  37.3241266 ]\n",
      "[-21.08439037  37.31912348]\n",
      "[-22.06145243  37.26671068]\n",
      "[-23.5574193   37.44528325]\n",
      "[-26.17133251  37.76077414]\n",
      "[-28.43506496  37.75894557]\n"
     ]
    },
    {
     "data": {
      "text/plain": [
       "-1"
      ]
     },
     "execution_count": 166,
     "metadata": {},
     "output_type": "execute_result"
    }
   ],
   "source": [
    "#initial beta\n",
    "beta = np.array([3,1])\n",
    "\n",
    "updateRepeat(mu,beta)"
   ]
  },
  {
   "cell_type": "markdown",
   "metadata": {},
   "source": [
    "Fail to find"
   ]
  },
  {
   "cell_type": "markdown",
   "metadata": {},
   "source": [
    "### Second case\n",
    "$$y=\\frac{\\beta_1}{x_1+0.5} + \\frac{\\beta_4}{exp(0.5+\\beta_2x_2+\\frac{1}{\\beta_3+x_3})}+\\epsilon$$\n",
    "answer : $(\\beta_1,\\beta_2,\\beta_3,\\beta_4) = (3,2,7,9)$"
   ]
  },
  {
   "cell_type": "code",
   "execution_count": 206,
   "metadata": {},
   "outputs": [],
   "source": [
    "np.random.seed(2020)\n",
    "x1 = np.random.normal(5,10,100)\n",
    "x2 = np.random.normal(0,1,100)\n",
    "x3 = np.random.normal(3,5,100)\n",
    "\n",
    "x=[x1,x2,x3]\n",
    "y = 3/(x1+0.5) + 9/np.exp(0.5+2*x2 + 1/(7+x3))\n"
   ]
  },
  {
   "cell_type": "code",
   "execution_count": 207,
   "metadata": {},
   "outputs": [],
   "source": [
    "#mu\n",
    "def mu(beta, x):\n",
    "    return beta[0]/(x[0]+0.5) + beta[3]/np.exp(0.5+beta[1]*x[1] + 1/(beta[2]+x[2]))"
   ]
  },
  {
   "cell_type": "code",
   "execution_count": 224,
   "metadata": {},
   "outputs": [
    {
     "name": "stdout",
     "output_type": "stream",
     "text": [
      "[  3.74105671   3.09640227   8.18573973 -11.00856146]\n",
      "[3.05228786 3.18889896 8.20364609 3.08108231]\n",
      "[3.05946941 2.90038412 8.16266192 2.67334849]\n",
      "[3.03642934 2.42861619 8.06474619 4.08144112]\n",
      "[3.00943785 2.03127982 7.8635932  7.09060376]\n",
      "[3.00178127 1.99477668 7.5644919  8.89878526]\n",
      "[3.00181213 1.99954245 7.20825694 8.98050046]\n",
      "[3.00032139 1.99993389 7.00663296 8.99974273]\n",
      "[3.00000024 1.9999995  6.99999433 8.99999994]\n"
     ]
    },
    {
     "data": {
      "text/plain": [
       "array([3.00000024, 1.9999995 , 6.99999433, 8.99999994])"
      ]
     },
     "execution_count": 224,
     "metadata": {},
     "output_type": "execute_result"
    }
   ],
   "source": [
    "#initial beta\n",
    "beta = np.array([1,1,8,20])\n",
    "\n",
    "updateRepeat(mu,beta)"
   ]
  },
  {
   "cell_type": "markdown",
   "metadata": {},
   "source": [
    "### Result\n",
    "We can find answer but **initial beta is very very important**"
   ]
  }
 ],
 "metadata": {
  "kernelspec": {
   "display_name": "py37",
   "language": "python",
   "name": "py37"
  },
  "language_info": {
   "codemirror_mode": {
    "name": "ipython",
    "version": 3
   },
   "file_extension": ".py",
   "mimetype": "text/x-python",
   "name": "python",
   "nbconvert_exporter": "python",
   "pygments_lexer": "ipython3",
   "version": "3.7.6"
  }
 },
 "nbformat": 4,
 "nbformat_minor": 2
}
