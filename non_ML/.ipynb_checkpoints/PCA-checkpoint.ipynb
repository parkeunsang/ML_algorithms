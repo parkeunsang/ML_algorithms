{
 "cells": [
  {
   "cell_type": "code",
   "execution_count": 1,
   "metadata": {},
   "outputs": [],
   "source": [
    "import numpy as np\n",
    "\n",
    "eig = np.linalg.eig"
   ]
  },
  {
   "cell_type": "code",
   "execution_count": 5,
   "metadata": {},
   "outputs": [],
   "source": [
    "matrix = np.matrix\n",
    "testmatrix = np.array([[1,2,3],[5,3,4],[7,2,3],[10,11,12],[5,4,1]])\n",
    "#testmatrix = matrix([[1,2,3],[5,3,4],[7,2,3]])"
   ]
  },
  {
   "cell_type": "code",
   "execution_count": 7,
   "metadata": {},
   "outputs": [
    {
     "data": {
      "text/plain": [
       "array([[ 1,  2,  3],\n",
       "       [ 5,  3,  4],\n",
       "       [ 7,  2,  3],\n",
       "       [10, 11, 12],\n",
       "       [ 5,  4,  1]])"
      ]
     },
     "execution_count": 7,
     "metadata": {},
     "output_type": "execute_result"
    }
   ],
   "source": [
    "testmatrix"
   ]
  },
  {
   "cell_type": "code",
   "execution_count": 8,
   "metadata": {},
   "outputs": [],
   "source": [
    "testmatrix = (testmatrix - np.mean(testmatrix,axis=0))"
   ]
  },
  {
   "cell_type": "code",
   "execution_count": 11,
   "metadata": {},
   "outputs": [],
   "source": [
    "covMat = testmatrix.T @ testmatrix"
   ]
  },
  {
   "cell_type": "code",
   "execution_count": 13,
   "metadata": {},
   "outputs": [],
   "source": [
    "eigMat = eig(covMat)[1] "
   ]
  },
  {
   "cell_type": "code",
   "execution_count": 15,
   "metadata": {},
   "outputs": [
    {
     "data": {
      "text/plain": [
       "array([[ 0.45085898,  0.87725854,  0.16475323],\n",
       "       [ 0.59177395, -0.15559361, -0.79094515],\n",
       "       [ 0.66822884, -0.45410139,  0.58928953]])"
      ]
     },
     "execution_count": 15,
     "metadata": {},
     "output_type": "execute_result"
    }
   ],
   "source": [
    "eigMat"
   ]
  },
  {
   "cell_type": "code",
   "execution_count": 25,
   "metadata": {},
   "outputs": [
    {
     "data": {
      "text/plain": [
       "array([-4.56337492, -1.49993621, -1.85822103, 10.83438094, -2.91284877])"
      ]
     },
     "execution_count": 25,
     "metadata": {},
     "output_type": "execute_result"
    }
   ],
   "source": [
    "testmatrix @eigMat[:,0]"
   ]
  },
  {
   "cell_type": "code",
   "execution_count": 26,
   "metadata": {},
   "outputs": [
    {
     "data": {
      "text/plain": [
       "array([-2.93540239, -0.03606323,  2.32814886, -0.52733058,  1.17064734])"
      ]
     },
     "execution_count": 26,
     "metadata": {},
     "output_type": "execute_result"
    }
   ],
   "source": [
    "testmatrix @ eigMat[:,1]"
   ]
  },
  {
   "cell_type": "code",
   "execution_count": 29,
   "metadata": {},
   "outputs": [
    {
     "data": {
      "text/plain": [
       "(array([152.39568304,  15.68665763,   5.51765933]),\n",
       " array([[ 0.45085898,  0.87725854,  0.16475323],\n",
       "        [ 0.59177395, -0.15559361, -0.79094515],\n",
       "        [ 0.66822884, -0.45410139,  0.58928953]]))"
      ]
     },
     "execution_count": 29,
     "metadata": {},
     "output_type": "execute_result"
    }
   ],
   "source": [
    "eig(covMat) #Eigenvalue와 Eigenvector가 모두 나온다"
   ]
  },
  {
   "cell_type": "code",
   "execution_count": 30,
   "metadata": {},
   "outputs": [
    {
     "name": "stdout",
     "output_type": "stream",
     "text": [
      "[152.39568304  15.68665763   5.51765933]\n"
     ]
    }
   ],
   "source": [
    "print(eig(covMat)[0]) #Eigenvalue 부분을 출력한다"
   ]
  },
  {
   "cell_type": "code",
   "execution_count": 32,
   "metadata": {},
   "outputs": [
    {
     "name": "stdout",
     "output_type": "stream",
     "text": [
      "[[ 0.45085898  0.87725854  0.16475323]\n",
      " [ 0.59177395 -0.15559361 -0.79094515]\n",
      " [ 0.66822884 -0.45410139  0.58928953]]\n"
     ]
    }
   ],
   "source": [
    "print(eig(covMat)[1]) #Eigenvector 부분을 출력한다."
   ]
  },
  {
   "cell_type": "code",
   "execution_count": 33,
   "metadata": {},
   "outputs": [],
   "source": [
    "from sklearn.decomposition import PCA\n",
    "pca = PCA(n_components=1) # 주성분을 몇개로 할지 결정\n",
    "printcipalComponents = pca.fit_transform(testmatrix)"
   ]
  },
  {
   "cell_type": "code",
   "execution_count": 34,
   "metadata": {},
   "outputs": [
    {
     "data": {
      "text/plain": [
       "array([[-4.56337492],\n",
       "       [-1.49993621],\n",
       "       [-1.85822103],\n",
       "       [10.83438094],\n",
       "       [-2.91284877]])"
      ]
     },
     "execution_count": 34,
     "metadata": {},
     "output_type": "execute_result"
    }
   ],
   "source": [
    "printcipalComponents"
   ]
  }
 ],
 "metadata": {
  "kernelspec": {
   "display_name": "py35",
   "language": "python",
   "name": "py35"
  },
  "language_info": {
   "codemirror_mode": {
    "name": "ipython",
    "version": 3
   },
   "file_extension": ".py",
   "mimetype": "text/x-python",
   "name": "python",
   "nbconvert_exporter": "python",
   "pygments_lexer": "ipython3",
   "version": "3.5.6"
  }
 },
 "nbformat": 4,
 "nbformat_minor": 2
}
